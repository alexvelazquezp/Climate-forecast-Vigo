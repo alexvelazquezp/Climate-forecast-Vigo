{
 "cells": [
  {
   "cell_type": "markdown",
   "metadata": {},
   "source": [
    "# Climate forecast"
   ]
  },
  {
   "cell_type": "markdown",
   "metadata": {},
   "source": [
    "__English__\n",
    "\n",
    "Climate change is known to everyone today, over the years we have witnessed these variations by ourselves. But, how much truth do they have? Are they really dealing with many specific situations or do they attend to a trend? What will the weather be like in the future?\n",
    "\n",
    "If you are skeptical, following this step-by-step analysis like in this notebook can lead you to change your mind or clarify your doubts. The purpose is, from historical temperature and rainfall data, analyze possible trends, compare the same periods between well-differentiated time ranges, and estimate what the future values will be.\n",
    "\n",
    "The example is based on data from my homecity Vigo (Spain), with a process that can be extrapolated to any other."
   ]
  },
  {
   "cell_type": "markdown",
   "metadata": {},
   "source": [
    "__Español__\n",
    "\n",
    "El cambio climático está en boca de todos, y en mayor o menor medida, a lo largo de los años nosotros mismos hemos sido testigos de estas variaciones. Pero, ¿cuánto tienen de cierto? ¿Realmente se tratan de muchas situaciones puntuales o atienden a una tendencia? ¿Cómo será el clima en el futuro? \n",
    "\n",
    "Si eres de los escépticos, seguir un análisis paso a paso como en este cuaderno puede llevarte a cambiar de idea o clarificar tus dudas. El propósito es, a partir de los datos históricos de temperatura y lluvia, analizar las posibles tendencias, comparar los mismos periodos entre rangos de tiempo bien diferenciados y estimar cuáles serán los valores futuros.\n",
    "\n",
    "El ejemplo se basa en los datos de la ciudad de Vigo (España), con un proceso completamente extrapolable a cualquier otra."
   ]
  },
  {
   "cell_type": "markdown",
   "metadata": {},
   "source": [
    "__Content__\n",
    "\n",
    "1. Preparation\n",
    "\n",
    "    1.1 Data import\n",
    "    \n",
    "    1.2 Data wrangling\n",
    "    \n",
    "    \n",
    "    \n",
    "2. Data analysis\n",
    "\n",
    "    2.1 Maximum temperatures\n",
    "    \n",
    "    2.2 Minimum temperatures\n",
    "    \n",
    "    2.3 Rainfalls\n",
    "    \n",
    "    2.4 1962 vs 2019: The first vs the last\n",
    "    \n",
    "    2.5 Winter: 1960's vs 2010's\n",
    "    \n",
    "    2.6 Spring: 1960's vs 2010's\n",
    "    \n",
    "    2.7 Summer: 1960's vs 2010's\n",
    "    \n",
    "    2.8 Autumn: 1960's vs 2010's\n",
    "    \n",
    "    2.9 Rainfalls: 1960's vs 2010's\n",
    "    \n",
    "\n",
    "3. Predictions\n",
    "\n",
    "    3.1 Maximum temperatures\n",
    "    \n",
    "    3.2 Minimum temperatures\n",
    "    \n",
    "    3.3 Rainfalls\n",
    "    \n",
    "    \n",
    "\n",
    "4. Conclusions"
   ]
  },
  {
   "cell_type": "markdown",
   "metadata": {},
   "source": [
    "# 1. Preparation"
   ]
  },
  {
   "cell_type": "code",
   "execution_count": 108,
   "metadata": {},
   "outputs": [],
   "source": [
    "import pandas as pd\n",
    "import numpy as np\n",
    "import matplotlib as mpl\n",
    "import matplotlib.pyplot as plt\n",
    "from sklearn import linear_model"
   ]
  },
  {
   "cell_type": "markdown",
   "metadata": {},
   "source": [
    "## 1.1 Data import"
   ]
  },
  {
   "cell_type": "markdown",
   "metadata": {},
   "source": [
    "Let's read our data file with Vigo's weather information"
   ]
  },
  {
   "cell_type": "code",
   "execution_count": 109,
   "metadata": {},
   "outputs": [
    {
     "data": {
      "text/html": [
       "<div>\n",
       "<style scoped>\n",
       "    .dataframe tbody tr th:only-of-type {\n",
       "        vertical-align: middle;\n",
       "    }\n",
       "\n",
       "    .dataframe tbody tr th {\n",
       "        vertical-align: top;\n",
       "    }\n",
       "\n",
       "    .dataframe thead th {\n",
       "        text-align: right;\n",
       "    }\n",
       "</style>\n",
       "<table border=\"1\" class=\"dataframe\">\n",
       "  <thead>\n",
       "    <tr style=\"text-align: right;\">\n",
       "      <th></th>\n",
       "      <th>FECHA</th>\n",
       "      <th>T. Máxima</th>\n",
       "      <th>T.Mínima</th>\n",
       "      <th>Precipitación: l/m2</th>\n",
       "      <th>Horas Sol:</th>\n",
       "    </tr>\n",
       "  </thead>\n",
       "  <tbody>\n",
       "    <tr>\n",
       "      <th>0</th>\n",
       "      <td>01/01/1961</td>\n",
       "      <td>7.2</td>\n",
       "      <td>1.0</td>\n",
       "      <td>10.6</td>\n",
       "      <td>NaN</td>\n",
       "    </tr>\n",
       "    <tr>\n",
       "      <th>1</th>\n",
       "      <td>02/01/1961</td>\n",
       "      <td>12.6</td>\n",
       "      <td>5.0</td>\n",
       "      <td>72.8</td>\n",
       "      <td>NaN</td>\n",
       "    </tr>\n",
       "    <tr>\n",
       "      <th>2</th>\n",
       "      <td>03/01/1961</td>\n",
       "      <td>10.0</td>\n",
       "      <td>7.4</td>\n",
       "      <td>6.0</td>\n",
       "      <td>NaN</td>\n",
       "    </tr>\n",
       "    <tr>\n",
       "      <th>3</th>\n",
       "      <td>04/01/1961</td>\n",
       "      <td>10.2</td>\n",
       "      <td>5.0</td>\n",
       "      <td>2.0</td>\n",
       "      <td>NaN</td>\n",
       "    </tr>\n",
       "    <tr>\n",
       "      <th>4</th>\n",
       "      <td>05/01/1961</td>\n",
       "      <td>9.4</td>\n",
       "      <td>2.4</td>\n",
       "      <td>Ip</td>\n",
       "      <td>NaN</td>\n",
       "    </tr>\n",
       "  </tbody>\n",
       "</table>\n",
       "</div>"
      ],
      "text/plain": [
       "        FECHA  T. Máxima  T.Mínima Precipitación: l/m2  Horas Sol:\n",
       "0  01/01/1961        7.2       1.0                10.6         NaN\n",
       "1  02/01/1961       12.6       5.0                72.8         NaN\n",
       "2  03/01/1961       10.0       7.4                 6.0         NaN\n",
       "3  04/01/1961       10.2       5.0                 2.0         NaN\n",
       "4  05/01/1961        9.4       2.4                  Ip         NaN"
      ]
     },
     "execution_count": 109,
     "metadata": {},
     "output_type": "execute_result"
    }
   ],
   "source": [
    "meteo = pd.read_csv('meteo.csv')\n",
    "meteo.head()"
   ]
  },
  {
   "cell_type": "markdown",
   "metadata": {},
   "source": [
    "The data file was read in a dataframe, but as the previous table shows, there are NaN values.\n",
    "\n",
    "We should do some data correction in our meteo dataframe. The first step will be rename columns"
   ]
  },
  {
   "cell_type": "code",
   "execution_count": 110,
   "metadata": {
    "scrolled": true
   },
   "outputs": [
    {
     "data": {
      "text/html": [
       "<div>\n",
       "<style scoped>\n",
       "    .dataframe tbody tr th:only-of-type {\n",
       "        vertical-align: middle;\n",
       "    }\n",
       "\n",
       "    .dataframe tbody tr th {\n",
       "        vertical-align: top;\n",
       "    }\n",
       "\n",
       "    .dataframe thead th {\n",
       "        text-align: right;\n",
       "    }\n",
       "</style>\n",
       "<table border=\"1\" class=\"dataframe\">\n",
       "  <thead>\n",
       "    <tr style=\"text-align: right;\">\n",
       "      <th></th>\n",
       "      <th>Date</th>\n",
       "      <th>Tmax</th>\n",
       "      <th>Tmin</th>\n",
       "      <th>Rain</th>\n",
       "      <th>Sunhours</th>\n",
       "    </tr>\n",
       "  </thead>\n",
       "  <tbody>\n",
       "    <tr>\n",
       "      <th>0</th>\n",
       "      <td>01/01/1961</td>\n",
       "      <td>7.2</td>\n",
       "      <td>1.0</td>\n",
       "      <td>10.6</td>\n",
       "      <td>NaN</td>\n",
       "    </tr>\n",
       "    <tr>\n",
       "      <th>1</th>\n",
       "      <td>02/01/1961</td>\n",
       "      <td>12.6</td>\n",
       "      <td>5.0</td>\n",
       "      <td>72.8</td>\n",
       "      <td>NaN</td>\n",
       "    </tr>\n",
       "    <tr>\n",
       "      <th>2</th>\n",
       "      <td>03/01/1961</td>\n",
       "      <td>10.0</td>\n",
       "      <td>7.4</td>\n",
       "      <td>6.0</td>\n",
       "      <td>NaN</td>\n",
       "    </tr>\n",
       "    <tr>\n",
       "      <th>3</th>\n",
       "      <td>04/01/1961</td>\n",
       "      <td>10.2</td>\n",
       "      <td>5.0</td>\n",
       "      <td>2.0</td>\n",
       "      <td>NaN</td>\n",
       "    </tr>\n",
       "    <tr>\n",
       "      <th>4</th>\n",
       "      <td>05/01/1961</td>\n",
       "      <td>9.4</td>\n",
       "      <td>2.4</td>\n",
       "      <td>Ip</td>\n",
       "      <td>NaN</td>\n",
       "    </tr>\n",
       "  </tbody>\n",
       "</table>\n",
       "</div>"
      ],
      "text/plain": [
       "         Date  Tmax  Tmin  Rain  Sunhours\n",
       "0  01/01/1961   7.2   1.0  10.6       NaN\n",
       "1  02/01/1961  12.6   5.0  72.8       NaN\n",
       "2  03/01/1961  10.0   7.4   6.0       NaN\n",
       "3  04/01/1961  10.2   5.0   2.0       NaN\n",
       "4  05/01/1961   9.4   2.4    Ip       NaN"
      ]
     },
     "execution_count": 110,
     "metadata": {},
     "output_type": "execute_result"
    }
   ],
   "source": [
    "meteo.columns = ['Date','Tmax','Tmin','Rain','Sunhours']\n",
    "meteo.head()"
   ]
  },
  {
   "cell_type": "markdown",
   "metadata": {},
   "source": [
    "## 1.2 Data wrangling"
   ]
  },
  {
   "cell_type": "markdown",
   "metadata": {},
   "source": [
    "Let's count how many NaN values are in each column"
   ]
  },
  {
   "cell_type": "code",
   "execution_count": 111,
   "metadata": {},
   "outputs": [
    {
     "name": "stdout",
     "output_type": "stream",
     "text": [
      "Tmax: 56\n",
      "Tmin: 43\n",
      "Rain: 4\n",
      "Sunhours: 7275\n"
     ]
    }
   ],
   "source": [
    "print('Tmax: {}'.format(meteo['Tmax'].isna().sum()))\n",
    "print('Tmin: {}'.format(meteo['Tmin'].isna().sum()))\n",
    "print('Rain: {}'.format(meteo['Rain'].isna().sum()))\n",
    "print('Sunhours: {}'.format(meteo['Sunhours'].isna().sum()))"
   ]
  },
  {
   "cell_type": "markdown",
   "metadata": {},
   "source": [
    "We should make some decision with the NaN values. We cannot be present in our data frame.\n",
    "\n",
    "Since the fundamentals for our analysis are, in this order, the temperatures, rain and hours of sunlight, we proceed as follows:\n",
    "\n",
    "- If any temperature data is missing, the day is deleted. The impact will be low, since we will always work with longer periods (months, years, etc.)\n",
    "\n",
    "- If any rain data is missing, it is replaced by zero.\n",
    "\n",
    "- If any data on hours of sunshine is missing, the NaN will not be changed. They will have to be filtered when doing operations.\n",
    "\n",
    "So, let's do it!"
   ]
  },
  {
   "cell_type": "code",
   "execution_count": 112,
   "metadata": {
    "scrolled": true
   },
   "outputs": [],
   "source": [
    "# Delete days with NaN in Tmax and Tmin\n",
    "meteo = meteo[meteo['Tmax'].notna()]\n",
    "meteo = meteo[meteo['Tmin'].notna()]\n",
    "# Replace NaN values by zero in Rain column\n",
    "meteo['Rain'].fillna(0, inplace=True)"
   ]
  },
  {
   "cell_type": "markdown",
   "metadata": {},
   "source": [
    "In another check step, we will print all unique values of each column, doing a visual inspection"
   ]
  },
  {
   "cell_type": "code",
   "execution_count": 113,
   "metadata": {},
   "outputs": [
    {
     "data": {
      "text/plain": [
       "array([ 7.2, 12.6, 10. , 10.2,  9.4,  9.2, 11.6, 10.8,  9.6, 13. ,  9. ,\n",
       "       12.2,  8.2,  8.4, 10.4, 10.6, 11.4, 12. , 11.2, 13.4, 12.4, 13.2,\n",
       "       17. , 11. , 18. , 19.2, 17.4, 16. , 16.4, 17.2, 15.6, 19. , 14. ,\n",
       "       15.4, 16.6, 12.8, 17.6, 19.8, 22. , 22.2, 21. , 19.4, 20. , 22.8,\n",
       "       18.2, 21.4, 22.4, 21.6,  9.8, 15.8, 17.8, 20.6, 21.2, 15.2, 14.2,\n",
       "       13.8, 14.6, 14.8, 13.6, 16.2, 16.8, 15. , 26.4, 30. , 29.4, 29.2,\n",
       "       29. , 27. , 30.2, 23. , 18.4, 20.4, 19.6, 23.4, 23.6, 26.2, 31.6,\n",
       "       32.2, 29.8, 26. , 28.2, 30.6, 24. , 25.2, 27.6, 27.4, 29.6, 28.4,\n",
       "       23.2, 25. , 24.4, 25.6, 33.6, 25.4, 21.8, 28.6, 28. , 24.2, 30.4,\n",
       "       24.6, 31. , 27.8, 33.2, 36. , 22.6, 26.8, 20.8, 14.4, 11.8,  6. ,\n",
       "        8. , 18.8, 18.6, 24.8, 27.2, 33. , 20.2, 31.4, 33.4, 23.8, 26.6,\n",
       "        8.6,  5.4,  6.4,  7.4,  5.6,  0. ,  4.4,  6.8, 32.8,  7.6,  8.8,\n",
       "        7. , 35.2, 34.6, 32. , 25.8, 31.2, 32.6,  4.6,  6.2,  4. ,  6.6,\n",
       "       32.4,  7.8, 34. , 10.5, 28.8, 17.5, 18.5, 28.5, 24.3, 33.8, 35. ,\n",
       "       20.3, 20.5,  1.6,  3.4,  5. ,  2.8,  5.2,  9.7, 12.5, 11.5,  8.5,\n",
       "       14.5, 26.5, 22.7, 13.5,  5.8, 18.3, 10.3, 21.7, 16.5,  3.6, 30.8,\n",
       "        9.9, 31.8, 34.4, 38.6, 37.4,  0.4,  4.8, 34.2, 26.9, 15.5, 30.5,\n",
       "       34.8, 36.6, 27.7, 26.1, 35.4, 21.9, 21.5, 29.5,  2. , 22.3, 13.3,\n",
       "       16.7, 19.5, 17.7, 28.9, 22.5, 23.5, 31.5, 32.5, 33.5,  7.7, 27.5,\n",
       "        3.2, 24.5, 25.9, 21.3, 27.3, 17.3, 25.5, 35.5, 23.3,  9.5, 14.7,\n",
       "       12.3, 29.7, 37.5, 17.1, 36.4, 35.6, 36.3, 14.3, 12.7, 15.3,  8.9,\n",
       "        8.7, 20.1, 16.3, 31.1, 31.9, 18.7, 32.3, 27.1, 25.7, 26.3, 24.9,\n",
       "       22.9, 23.1, 20.7, 24.7, 23.7, 18.9, 25.3, 25.1, 23.9, 24.1, 16.1,\n",
       "       17.9, 19.3, 18.1, 15.7, 14.9, 11.7, 15.9, 11.3, 10.1, 11.1, 12.1,\n",
       "       13.7, 10.9,  8.3, 13.1,  9.1,  5.5, 12.9,  9.3, 11.9, 19.7, 14.1,\n",
       "       22.1, 16.9, 15.1, 21.1, 28.3, 29.3, 20.9, 19.9, 29.9, 34.9, 32.7,\n",
       "       27.9, 19.1, 13.9, 10.7,  8.1, 30.1, 30.7, 30.3, 26.7, 31.3, 29.1,\n",
       "        7.5,  7.9,  4.5,  7.1, 28.7, 28.1, 30.9,  4.2, 33.3, 32.1, 34.3,\n",
       "       33.7, 39.7, 39.5, 32.9, 35.1, 37.8, 33.1, 33.9, 35.3, 40.8, 37.2,\n",
       "       36.7, 36.9, 34.5, 37.3, 36.2, 37.6, 36.1, 34.1])"
      ]
     },
     "execution_count": 113,
     "metadata": {},
     "output_type": "execute_result"
    }
   ],
   "source": [
    "meteo['Tmax'].unique()"
   ]
  },
  {
   "cell_type": "code",
   "execution_count": 114,
   "metadata": {},
   "outputs": [
    {
     "data": {
      "text/plain": [
       "array([ 1. ,  5. ,  7.4,  2.4,  2. ,  8. ,  8.6,  5.2,  6.6,  4.2,  1.6,\n",
       "       -0.6,  0. , -0.4,  1.2,  4.4,  5.4,  2.6,  4. ,  7.2,  7.6,  5.6,\n",
       "        4.6,  7. , 10.2,  6. ,  8.4,  4.8,  6.8,  9.2,  9. ,  6.2, 11.2,\n",
       "        9.6, 11.6, 11.8,  9.4,  5.8, 12. ,  7.8, 11. ,  8.2, 10. , 10.4,\n",
       "       12.4, 13.6, 14. , 16.6, 13.4, 15.2, 11.4, 13. ,  8.8, 10.6,  9.8,\n",
       "       16.4, 16.2, 15.4, 18.8, 17.6, 15. , 15.8, 14.4, 16. , 14.8, 17. ,\n",
       "       18.4, 12.8, 14.6, 17.8, 14.2, 12.6, 12.2, 22.4, 19.4, 13.8, 18.2,\n",
       "       17.4, 13.2,  6.4, 10.8,  0.6,  3.6,  2.8,  3.2,  3. ,  3.4,  1.8,\n",
       "        0.4, 15.6, 21. , 13.5, 17.2,  1.4,  3.8, -0.2, -1.4, -2.4, -2. ,\n",
       "       -1.6, -5. , -1. , 18. ,  2.2,  0.8, 19.2, 20. , 19.8, 18.6, 23. ,\n",
       "       19. ,  0.2, 20.6, 20.4, 19.6, 16.8, 10.9, 14.5,  9.5, 21.4, 10.5,\n",
       "        4.5,  5.3,  3.5, -2.6, -3. , -3.4, -4. ,  2.5,  0.5, 12.3, -0.8,\n",
       "        4.3, -1.8,  4.1, 12.7, 13.3, -1.2, 22. , -2.8, 13.7, -3.6, 20.2,\n",
       "       21.2, 20.8, 22.6,  1.5, 16.9, 15.1,  3.1, 10.1, 12.5, 11.5,  6.5,\n",
       "        9.7, 14.3,  6.9,  7.5, 11.7, 10.7,  8.5,  5.5, 15.5, 18.5, 11.3,\n",
       "        7.3, 14.1, 17.5, 19.5, 16.5,  0.1, 22.8,  8.1, 21.6, 21.5, 22.2,\n",
       "       24.2, 25.5, 23.4, 11.9, 14.9,  9.1,  0.7, 10.3,  8.7,  9.9, 12.9,\n",
       "       16.3, 13.1, 17.9, 17.1, 14.7, 11.1, 13.9, 16.1,  8.9, 12.1,  4.7,\n",
       "        7.7,  7.9,  3.3,  1.7,  2.7,  5.1,  6.3,  2.9,  1.9,  2.3,  7.1,\n",
       "        5.7,  2.1,  3.9,  0.3, -0.3,  6.7,  8.3, 15.9, 15.3, 19.9, 15.7,\n",
       "       -0.1,  3.7,  5.9,  4.9, 16.7, 18.3, 17.3,  6.1,  1.1,  9.3, 19.3,\n",
       "       17.7,  0.9, -1.3, -0.5, 18.7, 18.1, 19.1,  1.3, 22.1, 22.9, 23.6,\n",
       "       20.5, 19.7, -0.9, 20.3, 20.9, 24.3, 24.9, 21.9, 20.7, 18.9])"
      ]
     },
     "execution_count": 114,
     "metadata": {},
     "output_type": "execute_result"
    }
   ],
   "source": [
    "meteo['Tmin'].unique()"
   ]
  },
  {
   "cell_type": "code",
   "execution_count": 115,
   "metadata": {},
   "outputs": [
    {
     "data": {
      "text/plain": [
       "array(['10.6', '72.8', '6.0', '2.0', 'Ip', '21.4', '33.6', '0.0', '8.0',\n",
       "       '8.4', '6.7', '1.8', '13.2', '22.3', '21.0', '12.4', '18.5',\n",
       "       '10.7', '0.3', '32.0', '1.0', '8.3', '61.6', '46.2', '5.6', '4.0',\n",
       "       '5.4', '0.4', '5.0', '25.8', '61.4', '59.8', '23.4', '3.0', '5.2',\n",
       "       '10.4', '49.8', '16.4', '38.0', '1.6', '3.6', '5.8', '16.8',\n",
       "       '27.0', '19.8', '9.6', '18.4', '12.6', '39.2', '71.6', '31.3',\n",
       "       '7.8', '5.9', '23.0', '3.2', '3.3', '1.3', '0.7', '14.2', '51.1',\n",
       "       '42.4', '4.2', '0.9', '7.4', '1.4', '19.2', '12.2', '48.2', '14.0',\n",
       "       '0.8', '34.1', '10.2', '1.2', '2.4', '20.4', '15.0', '10.0',\n",
       "       '11.4', '49.6', '36.2', '86.8', '31.2', '40.0', '31.6', '9.1',\n",
       "       '27.4', '13.0', '20.2', '0.6', '4.6', '23.2', '6.6', '9.0', '28.6',\n",
       "       '18.6', '20.8', '21.9', '17.0', '2.2', '9.2', '22.0', '51.7',\n",
       "       '36.6', '13.3', '53.6', '17.6', '32.6', '7.0', '12.1', '4.8',\n",
       "       '39.4', '32.2', '3.8', '67.2', '27.1', '11.2', '131.4', '137.4',\n",
       "       '100.2', '22.9', '44.4', '14.8', '29.0', '15.4', '5.7', '2.6',\n",
       "       '9.5', '37.2', '16.2', '69.0', '28.8', '19.0', '2.8', '6.2', '0.5',\n",
       "       '0.1', '20.1', '40.4', '41.3', '72.1', '1.7', '18.0', '61.2',\n",
       "       '40.5', '8.6', '9.4', '3.4', '7.6', '25.3', '0.2', '16.9', '17.2',\n",
       "       '9.8', '27.5', '46.6', '57.0', '13.4', '15.8', '27.2', '36.0',\n",
       "       '13.9', '15.2', '15.6', '47.8', '8.2', '25.0', '62.8', '29.1',\n",
       "       '33.5', '22.2', '12.8', '9.3', '8.8', '14.6', '27.8', '10.3',\n",
       "       '2.5', '63.4', '31.0', '41.2', '40.2', '6.4', '29.4', '2.7', '5.5',\n",
       "       '1.5', '17.4', '16.3', '7.2', '6.1', '2.3', '2.9', '6.5', '42.0',\n",
       "       '35.6', '39.0', '24.4', '30.0', '28.2', '4.7', '38.2', '24.6',\n",
       "       '37.8', '6.8', '50.2', '24.0', '53.8', '13.1', '19.6', '19.1',\n",
       "       '2.1', '8.7', '16.6', '21.2', '59.6', '62.0', '12.0', '47.4',\n",
       "       '59.2', '51.0', '33.0', '21.7', '30.5', '3.7', '67.0', '31.8',\n",
       "       '16.0', '1.1', '49.7', '21.6', '11.8', '32.3', '8.1', '16.5',\n",
       "       '6.3', '35.4', '29.5', '26.0', '25.7', '12.7', '22.4', '50.6',\n",
       "       '30.4', '18.8', '23.6', '32.4', '13.8', '18.2', '35.2', '25.2',\n",
       "       '11.0', '26.6', '10.1', '4.4', '20.0', '52.9', '11.7', '34.0',\n",
       "       '21.1', '20.7', '54.3', '28.9', '26.3', '15.9', '37.3', '33.2',\n",
       "       '33.8', '37.9', '47.6', '24.2', '3.1', '26.4', '26.5', '5.3',\n",
       "       '30.6', '52.6', '87.8', '20.6', '19.4', '25.4', '32.8', '4.1',\n",
       "       '6.9', '22.6', '34.3', '24.8', '34.2', '17.8', '26.8', '62.4',\n",
       "       '34.8', '3.9', '11.9', '1.9', '13.5', '33.4', '76.5', '53.0',\n",
       "       '36.3', '24.7', '21.5', '9.7', '10.9', '25.5', '58.2', '11.6',\n",
       "       '95.7', '4.9', '45.5', '30.8', '20.5', '23.5', '10.8', '24.5',\n",
       "       '14.7', '14.1', '22.8', '7.7', '45.6', '47.3', '29.9', '15.7',\n",
       "       '13.6', '17.7', '35.3', '23.7', '97.6', '44.2', '3.5', '31.4',\n",
       "       '57.6', '11.1', '9.9', '43.2', '33.3', '35.8', '27.6', '78.6',\n",
       "       '16.1', '75.6', '92.2', '4.3', '23.1', '14.5', '43.8', '14.9',\n",
       "       '35.0', '41.0', '32.9', '34.6', '63.1', '42.3', '107.4', '50.7',\n",
       "       '37.1', '29.3', '45.1', '56.8', '12.5', '24.1', '57.1', '37.0',\n",
       "       '45.2', '57.7', '44.0', '43.0', '13.7', '23.8', '21.8', '7.1',\n",
       "       '38.8', '25.1', '11.3', '43.4', '41.8', '29.2', '18.3', '64.7',\n",
       "       '36.7', '10.5', '5.1', '26.9', '32.7', '8.5', '7.3', '12.9', '4.5',\n",
       "       '50.8', '33.7', '30.7', '19.3', '30.9', '33.1', '105.6', '23.9',\n",
       "       '22.5', '7.5', '33.9', '24.3', '57.5', '28.0', '59.9', '58.8',\n",
       "       '32.5', '43.1', '84.0', '26.2', '20.9', '82.3', '22.1', '57.4',\n",
       "       '18.9', '11.5', '15.5', '52.5', '35.5', '82.2', '28.4', '27.7',\n",
       "       '73.2', '45.4', '121.8', '19.7', '45.3', '48.5', '18.1', '52.2',\n",
       "       '19.5', '25.6', '14.4', '65.4', '84.2', '56.5', '18.7', '46.3',\n",
       "       '34.4', '45.0', '73.3', '103.0', '56.2', '38.6', '54.8', '29.8',\n",
       "       '71.7', '29.7', '14.3', '80.0', '44.8', '17.9', '16.7', '20.3',\n",
       "       '28.3', '28.5', '76.4', '75.8', '57.8', '22.7', '28.7', '70.2',\n",
       "       '78.8', '70.0', '48.3', '72.4', '78.2', '97.1', '53.5', '66.2',\n",
       "       '27.3', '17.5', '81.0', '30.3', '31.1', '45.7', '28.1', '73.7',\n",
       "       '25.9', '38.4', '27.9', '63.7', '54.6', '35.7', '7.9', '175.0',\n",
       "       '56.4', '49.2', '49.0', '144.9', '65.0', '46.4', '17.3', '69.8',\n",
       "       '26.1', '56.6', '74.6', '49.9', '45.8', '49.4', '32.1', '21.3',\n",
       "       '53.4', '53.9', '55.5', '38.1', '15.3', '37.6', '34.7', '44.6',\n",
       "       '98.3', '54.4', '69.3', '48.8', '30.2', '46.7', '57.2', '78.7',\n",
       "       '39.6', '46.1', '50.4', '52.3', '39.1', '38.7', '17.1', '62.9',\n",
       "       '39.8', '12.3', '46.8', '50.9', '75.5', '49.3', '37.4', '64.0',\n",
       "       '70.5', '30.1', '15.1', '24.9', '48.9', '41.4', '58.3', '74.7',\n",
       "       '56.9', '59.0', '82.7', '66.3', '26.7', '36.9', '58.4', '60.8',\n",
       "       '45.9', '41.1', '44.1', '19.9', '29.6', '63.6', '82.1', '74.2',\n",
       "       '38.5', '41.6', '44.5', '34.9', '76.3', '41.5', '101.6', '40.8',\n",
       "       '41.9', '61.9', '31.5', '8.9', '71.4', '58.5', '54.5', '48.6',\n",
       "       '39.5', '36.4', '35.1', '65.6', '77.6', '107.2', '67.4', '46.9',\n",
       "       '79.1', '42.2', '69.6', '47.1', '36.1', '39.3', '43.3', '78.9',\n",
       "       '23.3', '44.7', '39.7', '57.3', '59.4', '31.7', '51.9', '55.2',\n",
       "       '94.1', '51.3', '66.4', '58.1', '49.1', '68.7', '37.7', '34.5',\n",
       "       '55.7', '47.7', '65.9', '51.2', '72.7', '42.8', '80.1', '56.7',\n",
       "       '42.7', '93.7', '73.1', '99.5', '60.3', '51.4', '40.6', '31.9',\n",
       "       '51.6', '93.0', '38.3', '43.7', '66.6', '72.2', '72.6', '42.6',\n",
       "       '79.6', '171.9', '43.9', '68.4', '64.8', '71.3', '52.4', '95.1',\n",
       "       '42.9', '50.1', '61.5', '60.2', '68.3', '61.7', '42.1', '40.9',\n",
       "       '79.3', 0, '55.1', '44.3', '36.8', '75.9', '60.6', '40.3', '117.5',\n",
       "       '101.4', '81.7', '81.1', '59.7', '35.9', '66.5', '36.5', '66.7',\n",
       "       '136.5', '44.9', '71.8', '93.9', '47.0', '96.2', '50.0', '63.3',\n",
       "       '88.5', '108.6'], dtype=object)"
      ]
     },
     "execution_count": 115,
     "metadata": {},
     "output_type": "execute_result"
    }
   ],
   "source": [
    "meteo['Rain'].unique()"
   ]
  },
  {
   "cell_type": "code",
   "execution_count": 116,
   "metadata": {},
   "outputs": [
    {
     "data": {
      "text/plain": [
       "array([ nan,  5. ,  0. ,  6. ,  9.5,  2.3,  1. ,  3.2,  1.8,  1.6,  2.5,\n",
       "        4.1,  1.4,  0.3,  2. ,  4.2,  9.3,  9.6,  9.8, 10. ,  6.3,  7.4,\n",
       "        6.9,  0.5,  6.5,  0.8,  8.5,  3.8,  6.8,  3.3,  5.9,  5.2,  2.4,\n",
       "        4.5,  2.8,  3.9, 10.3, 10.9,  5.6,  9.1,  7.7, 11.3, 12.2, 12.3,\n",
       "        8.3,  1.3,  8.6, 11.8, 12. , 11.2,  0.9, 12.5,  0.1, 10.8, 10.5,\n",
       "        7. ,  0.4, 13. ,  5.8,  8. ,  8.9, 10.2,  3.4, 13.1,  3. ,  1.1,\n",
       "        8.7, 11. , 10.6,  5.1,  9. ,  6.4,  7.5,  2.9,  1.5, 12.1, 12.6,\n",
       "       13.2, 12.9, 11.7,  6.6,  4.3,  6.7,  0.7,  4.7, 12.8,  7.1, 11.5,\n",
       "       12.4, 12.7,  4.8,  8.2,  9.7, 10.4,  5.5,  5.4,  4.9,  5.3,  9.2,\n",
       "       10.1, 10.7,  1.2,  1.9,  7.3,  5.7,  8.8,  8.4,  6.2,  4.4,  3.6,\n",
       "        3.5,  8.1,  0.2,  4. ,  3.1,  2.6,  7.6,  0.6,  2.7,  1.7,  7.9,\n",
       "        3.7,  9.4,  7.8, 11.4,  7.2, 13.7,  2.2,  2.1, 13.3, 13.6, 13.4,\n",
       "       11.6, 11.1,  6.1, 11.9, 13.5,  4.6, 14. , 14.2, 14.6, 14.4, 14.5,\n",
       "       14.3, 13.8,  9.9, 14.1, 13.9])"
      ]
     },
     "execution_count": 116,
     "metadata": {},
     "output_type": "execute_result"
    }
   ],
   "source": [
    "meteo['Sunhours'].unique()"
   ]
  },
  {
   "cell_type": "markdown",
   "metadata": {},
   "source": [
    "All right. Regardless of NaN already accepted at Sunhours, we have another unaccepted value. The Rain column has 'lp' values. As happened with the NaN, we will proceed to change them to zero"
   ]
  },
  {
   "cell_type": "code",
   "execution_count": 117,
   "metadata": {},
   "outputs": [
    {
     "name": "stdout",
     "output_type": "stream",
     "text": [
      "We have a total of 554 lp values\n",
      "After change them, we have 0 values\n"
     ]
    }
   ],
   "source": [
    "print('We have a total of {} lp values'.format(meteo['Rain'].loc[meteo['Rain'] == 'Ip'].count()))\n",
    "meteo['Rain'].replace(to_replace='Ip', value='0', inplace=True)\n",
    "print('After change them, we have {} values'.format(meteo['Rain'].loc[meteo['Rain'] == 'Ip'].count()))"
   ]
  },
  {
   "cell_type": "markdown",
   "metadata": {},
   "source": [
    "We have not yet checked the data type of each column. Some values appear with quotes, so this makes us think that something is not right"
   ]
  },
  {
   "cell_type": "code",
   "execution_count": 118,
   "metadata": {},
   "outputs": [
    {
     "data": {
      "text/plain": [
       "Date         object\n",
       "Tmax        float64\n",
       "Tmin        float64\n",
       "Rain         object\n",
       "Sunhours    float64\n",
       "dtype: object"
      ]
     },
     "execution_count": 118,
     "metadata": {},
     "output_type": "execute_result"
    }
   ],
   "source": [
    "meteo.dtypes"
   ]
  },
  {
   "cell_type": "markdown",
   "metadata": {},
   "source": [
    "Yes, Rain and Sunhours columns should be float too"
   ]
  },
  {
   "cell_type": "code",
   "execution_count": 119,
   "metadata": {},
   "outputs": [
    {
     "data": {
      "text/plain": [
       "Date         object\n",
       "Tmax        float64\n",
       "Tmin        float64\n",
       "Rain        float64\n",
       "Sunhours    float64\n",
       "dtype: object"
      ]
     },
     "execution_count": 119,
     "metadata": {},
     "output_type": "execute_result"
    }
   ],
   "source": [
    "meteo = meteo.astype({'Rain':float, 'Sunhours':float})\n",
    "meteo.dtypes"
   ]
  },
  {
   "cell_type": "markdown",
   "metadata": {},
   "source": [
    "We can summarize data to another visual inspection"
   ]
  },
  {
   "cell_type": "code",
   "execution_count": 120,
   "metadata": {},
   "outputs": [
    {
     "data": {
      "text/html": [
       "<div>\n",
       "<style scoped>\n",
       "    .dataframe tbody tr th:only-of-type {\n",
       "        vertical-align: middle;\n",
       "    }\n",
       "\n",
       "    .dataframe tbody tr th {\n",
       "        vertical-align: top;\n",
       "    }\n",
       "\n",
       "    .dataframe thead th {\n",
       "        text-align: right;\n",
       "    }\n",
       "</style>\n",
       "<table border=\"1\" class=\"dataframe\">\n",
       "  <thead>\n",
       "    <tr style=\"text-align: right;\">\n",
       "      <th></th>\n",
       "      <th>Tmax</th>\n",
       "      <th>Tmin</th>\n",
       "      <th>Rain</th>\n",
       "      <th>Sunhours</th>\n",
       "    </tr>\n",
       "  </thead>\n",
       "  <tbody>\n",
       "    <tr>\n",
       "      <th>count</th>\n",
       "      <td>21492.000000</td>\n",
       "      <td>21492.000000</td>\n",
       "      <td>21492.000000</td>\n",
       "      <td>14246.000000</td>\n",
       "    </tr>\n",
       "    <tr>\n",
       "      <th>mean</th>\n",
       "      <td>18.003666</td>\n",
       "      <td>9.688982</td>\n",
       "      <td>5.004085</td>\n",
       "      <td>6.170174</td>\n",
       "    </tr>\n",
       "    <tr>\n",
       "      <th>std</th>\n",
       "      <td>5.889306</td>\n",
       "      <td>4.380569</td>\n",
       "      <td>11.324318</td>\n",
       "      <td>4.505572</td>\n",
       "    </tr>\n",
       "    <tr>\n",
       "      <th>min</th>\n",
       "      <td>0.000000</td>\n",
       "      <td>-5.000000</td>\n",
       "      <td>0.000000</td>\n",
       "      <td>0.000000</td>\n",
       "    </tr>\n",
       "    <tr>\n",
       "      <th>25%</th>\n",
       "      <td>13.200000</td>\n",
       "      <td>6.400000</td>\n",
       "      <td>0.000000</td>\n",
       "      <td>1.600000</td>\n",
       "    </tr>\n",
       "    <tr>\n",
       "      <th>50%</th>\n",
       "      <td>17.200000</td>\n",
       "      <td>10.000000</td>\n",
       "      <td>0.000000</td>\n",
       "      <td>6.500000</td>\n",
       "    </tr>\n",
       "    <tr>\n",
       "      <th>75%</th>\n",
       "      <td>22.000000</td>\n",
       "      <td>13.000000</td>\n",
       "      <td>4.400000</td>\n",
       "      <td>9.900000</td>\n",
       "    </tr>\n",
       "    <tr>\n",
       "      <th>max</th>\n",
       "      <td>40.800000</td>\n",
       "      <td>25.500000</td>\n",
       "      <td>175.000000</td>\n",
       "      <td>14.600000</td>\n",
       "    </tr>\n",
       "  </tbody>\n",
       "</table>\n",
       "</div>"
      ],
      "text/plain": [
       "               Tmax          Tmin          Rain      Sunhours\n",
       "count  21492.000000  21492.000000  21492.000000  14246.000000\n",
       "mean      18.003666      9.688982      5.004085      6.170174\n",
       "std        5.889306      4.380569     11.324318      4.505572\n",
       "min        0.000000     -5.000000      0.000000      0.000000\n",
       "25%       13.200000      6.400000      0.000000      1.600000\n",
       "50%       17.200000     10.000000      0.000000      6.500000\n",
       "75%       22.000000     13.000000      4.400000      9.900000\n",
       "max       40.800000     25.500000    175.000000     14.600000"
      ]
     },
     "execution_count": 120,
     "metadata": {},
     "output_type": "execute_result"
    }
   ],
   "source": [
    "meteo.describe()"
   ]
  },
  {
   "cell_type": "markdown",
   "metadata": {},
   "source": [
    "The historical minimum value of Tmax is zero. Let's check if it's an error or a true value:"
   ]
  },
  {
   "cell_type": "code",
   "execution_count": 121,
   "metadata": {},
   "outputs": [
    {
     "data": {
      "text/html": [
       "<div>\n",
       "<style scoped>\n",
       "    .dataframe tbody tr th:only-of-type {\n",
       "        vertical-align: middle;\n",
       "    }\n",
       "\n",
       "    .dataframe tbody tr th {\n",
       "        vertical-align: top;\n",
       "    }\n",
       "\n",
       "    .dataframe thead th {\n",
       "        text-align: right;\n",
       "    }\n",
       "</style>\n",
       "<table border=\"1\" class=\"dataframe\">\n",
       "  <thead>\n",
       "    <tr style=\"text-align: right;\">\n",
       "      <th></th>\n",
       "      <th>Date</th>\n",
       "      <th>Tmax</th>\n",
       "      <th>Tmin</th>\n",
       "      <th>Rain</th>\n",
       "      <th>Sunhours</th>\n",
       "    </tr>\n",
       "  </thead>\n",
       "  <tbody>\n",
       "    <tr>\n",
       "      <th>762</th>\n",
       "      <td>02/02/1963</td>\n",
       "      <td>0.0</td>\n",
       "      <td>-2.0</td>\n",
       "      <td>11.2</td>\n",
       "      <td>NaN</td>\n",
       "    </tr>\n",
       "  </tbody>\n",
       "</table>\n",
       "</div>"
      ],
      "text/plain": [
       "           Date  Tmax  Tmin  Rain  Sunhours\n",
       "762  02/02/1963   0.0  -2.0  11.2       NaN"
      ]
     },
     "execution_count": 121,
     "metadata": {},
     "output_type": "execute_result"
    }
   ],
   "source": [
    "meteo[meteo['Tmax'] == 0]"
   ]
  },
  {
   "cell_type": "markdown",
   "metadata": {},
   "source": [
    "It seems fine. What a cold day!!\n",
    "\n",
    "For a easier handling, we can include columns with the month and year of the date"
   ]
  },
  {
   "cell_type": "code",
   "execution_count": 122,
   "metadata": {},
   "outputs": [
    {
     "data": {
      "text/html": [
       "<div>\n",
       "<style scoped>\n",
       "    .dataframe tbody tr th:only-of-type {\n",
       "        vertical-align: middle;\n",
       "    }\n",
       "\n",
       "    .dataframe tbody tr th {\n",
       "        vertical-align: top;\n",
       "    }\n",
       "\n",
       "    .dataframe thead th {\n",
       "        text-align: right;\n",
       "    }\n",
       "</style>\n",
       "<table border=\"1\" class=\"dataframe\">\n",
       "  <thead>\n",
       "    <tr style=\"text-align: right;\">\n",
       "      <th></th>\n",
       "      <th>Date</th>\n",
       "      <th>Tmax</th>\n",
       "      <th>Tmin</th>\n",
       "      <th>Rain</th>\n",
       "      <th>Sunhours</th>\n",
       "      <th>Day</th>\n",
       "      <th>Month</th>\n",
       "      <th>Year</th>\n",
       "    </tr>\n",
       "  </thead>\n",
       "  <tbody>\n",
       "    <tr>\n",
       "      <th>0</th>\n",
       "      <td>01/01/1961</td>\n",
       "      <td>7.2</td>\n",
       "      <td>1.0</td>\n",
       "      <td>10.6</td>\n",
       "      <td>NaN</td>\n",
       "      <td>1</td>\n",
       "      <td>1</td>\n",
       "      <td>1961</td>\n",
       "    </tr>\n",
       "    <tr>\n",
       "      <th>1</th>\n",
       "      <td>02/01/1961</td>\n",
       "      <td>12.6</td>\n",
       "      <td>5.0</td>\n",
       "      <td>72.8</td>\n",
       "      <td>NaN</td>\n",
       "      <td>2</td>\n",
       "      <td>1</td>\n",
       "      <td>1961</td>\n",
       "    </tr>\n",
       "    <tr>\n",
       "      <th>2</th>\n",
       "      <td>03/01/1961</td>\n",
       "      <td>10.0</td>\n",
       "      <td>7.4</td>\n",
       "      <td>6.0</td>\n",
       "      <td>NaN</td>\n",
       "      <td>3</td>\n",
       "      <td>1</td>\n",
       "      <td>1961</td>\n",
       "    </tr>\n",
       "    <tr>\n",
       "      <th>3</th>\n",
       "      <td>04/01/1961</td>\n",
       "      <td>10.2</td>\n",
       "      <td>5.0</td>\n",
       "      <td>2.0</td>\n",
       "      <td>NaN</td>\n",
       "      <td>4</td>\n",
       "      <td>1</td>\n",
       "      <td>1961</td>\n",
       "    </tr>\n",
       "    <tr>\n",
       "      <th>4</th>\n",
       "      <td>05/01/1961</td>\n",
       "      <td>9.4</td>\n",
       "      <td>2.4</td>\n",
       "      <td>0.0</td>\n",
       "      <td>NaN</td>\n",
       "      <td>5</td>\n",
       "      <td>1</td>\n",
       "      <td>1961</td>\n",
       "    </tr>\n",
       "  </tbody>\n",
       "</table>\n",
       "</div>"
      ],
      "text/plain": [
       "         Date  Tmax  Tmin  Rain  Sunhours  Day  Month  Year\n",
       "0  01/01/1961   7.2   1.0  10.6       NaN    1      1  1961\n",
       "1  02/01/1961  12.6   5.0  72.8       NaN    2      1  1961\n",
       "2  03/01/1961  10.0   7.4   6.0       NaN    3      1  1961\n",
       "3  04/01/1961  10.2   5.0   2.0       NaN    4      1  1961\n",
       "4  05/01/1961   9.4   2.4   0.0       NaN    5      1  1961"
      ]
     },
     "execution_count": 122,
     "metadata": {},
     "output_type": "execute_result"
    }
   ],
   "source": [
    "meteo['Day'] = pd.DatetimeIndex(data=meteo['Date'], dayfirst=True).day\n",
    "meteo['Month'] = pd.DatetimeIndex(data=meteo['Date'], dayfirst=True).month\n",
    "meteo['Year'] = pd.DatetimeIndex(data=meteo['Date'], dayfirst=True).year\n",
    "meteo.head()"
   ]
  },
  {
   "cell_type": "markdown",
   "metadata": {},
   "source": [
    "Calculate the season to a new column is another good option "
   ]
  },
  {
   "cell_type": "code",
   "execution_count": 123,
   "metadata": {},
   "outputs": [
    {
     "data": {
      "text/html": [
       "<div>\n",
       "<style scoped>\n",
       "    .dataframe tbody tr th:only-of-type {\n",
       "        vertical-align: middle;\n",
       "    }\n",
       "\n",
       "    .dataframe tbody tr th {\n",
       "        vertical-align: top;\n",
       "    }\n",
       "\n",
       "    .dataframe thead th {\n",
       "        text-align: right;\n",
       "    }\n",
       "</style>\n",
       "<table border=\"1\" class=\"dataframe\">\n",
       "  <thead>\n",
       "    <tr style=\"text-align: right;\">\n",
       "      <th></th>\n",
       "      <th>Date</th>\n",
       "      <th>Tmax</th>\n",
       "      <th>Tmin</th>\n",
       "      <th>Rain</th>\n",
       "      <th>Sunhours</th>\n",
       "      <th>Day</th>\n",
       "      <th>Month</th>\n",
       "      <th>Year</th>\n",
       "      <th>Season</th>\n",
       "    </tr>\n",
       "  </thead>\n",
       "  <tbody>\n",
       "    <tr>\n",
       "      <th>21534</th>\n",
       "      <td>17/12/2019</td>\n",
       "      <td>8.9</td>\n",
       "      <td>3.3</td>\n",
       "      <td>3.6</td>\n",
       "      <td>4.9</td>\n",
       "      <td>17</td>\n",
       "      <td>12</td>\n",
       "      <td>2019</td>\n",
       "      <td>Autumn</td>\n",
       "    </tr>\n",
       "    <tr>\n",
       "      <th>21535</th>\n",
       "      <td>18/12/2019</td>\n",
       "      <td>14.8</td>\n",
       "      <td>7.9</td>\n",
       "      <td>72.8</td>\n",
       "      <td>0.0</td>\n",
       "      <td>18</td>\n",
       "      <td>12</td>\n",
       "      <td>2019</td>\n",
       "      <td>Autumn</td>\n",
       "    </tr>\n",
       "    <tr>\n",
       "      <th>21536</th>\n",
       "      <td>19/12/2019</td>\n",
       "      <td>14.1</td>\n",
       "      <td>8.4</td>\n",
       "      <td>27.8</td>\n",
       "      <td>0.0</td>\n",
       "      <td>19</td>\n",
       "      <td>12</td>\n",
       "      <td>2019</td>\n",
       "      <td>Autumn</td>\n",
       "    </tr>\n",
       "    <tr>\n",
       "      <th>21537</th>\n",
       "      <td>20/12/2019</td>\n",
       "      <td>11.8</td>\n",
       "      <td>8.2</td>\n",
       "      <td>22.7</td>\n",
       "      <td>0.0</td>\n",
       "      <td>20</td>\n",
       "      <td>12</td>\n",
       "      <td>2019</td>\n",
       "      <td>Autumn</td>\n",
       "    </tr>\n",
       "    <tr>\n",
       "      <th>21538</th>\n",
       "      <td>21/12/2019</td>\n",
       "      <td>15.1</td>\n",
       "      <td>10.5</td>\n",
       "      <td>25.5</td>\n",
       "      <td>NaN</td>\n",
       "      <td>21</td>\n",
       "      <td>12</td>\n",
       "      <td>2019</td>\n",
       "      <td>Winter</td>\n",
       "    </tr>\n",
       "    <tr>\n",
       "      <th>21539</th>\n",
       "      <td>22/12/2019</td>\n",
       "      <td>14.3</td>\n",
       "      <td>8.6</td>\n",
       "      <td>12.2</td>\n",
       "      <td>1.8</td>\n",
       "      <td>22</td>\n",
       "      <td>12</td>\n",
       "      <td>2019</td>\n",
       "      <td>Winter</td>\n",
       "    </tr>\n",
       "    <tr>\n",
       "      <th>21540</th>\n",
       "      <td>23/12/2019</td>\n",
       "      <td>13.5</td>\n",
       "      <td>8.2</td>\n",
       "      <td>5.5</td>\n",
       "      <td>0.0</td>\n",
       "      <td>23</td>\n",
       "      <td>12</td>\n",
       "      <td>2019</td>\n",
       "      <td>Winter</td>\n",
       "    </tr>\n",
       "    <tr>\n",
       "      <th>21541</th>\n",
       "      <td>24/12/2019</td>\n",
       "      <td>17.5</td>\n",
       "      <td>11.3</td>\n",
       "      <td>0.1</td>\n",
       "      <td>6.5</td>\n",
       "      <td>24</td>\n",
       "      <td>12</td>\n",
       "      <td>2019</td>\n",
       "      <td>Winter</td>\n",
       "    </tr>\n",
       "    <tr>\n",
       "      <th>21542</th>\n",
       "      <td>25/12/2019</td>\n",
       "      <td>19.4</td>\n",
       "      <td>10.7</td>\n",
       "      <td>2.9</td>\n",
       "      <td>5.2</td>\n",
       "      <td>25</td>\n",
       "      <td>12</td>\n",
       "      <td>2019</td>\n",
       "      <td>Winter</td>\n",
       "    </tr>\n",
       "    <tr>\n",
       "      <th>21543</th>\n",
       "      <td>26/12/2019</td>\n",
       "      <td>13.3</td>\n",
       "      <td>5.3</td>\n",
       "      <td>0.0</td>\n",
       "      <td>5.0</td>\n",
       "      <td>26</td>\n",
       "      <td>12</td>\n",
       "      <td>2019</td>\n",
       "      <td>Winter</td>\n",
       "    </tr>\n",
       "    <tr>\n",
       "      <th>21544</th>\n",
       "      <td>27/12/2019</td>\n",
       "      <td>12.1</td>\n",
       "      <td>2.8</td>\n",
       "      <td>0.0</td>\n",
       "      <td>NaN</td>\n",
       "      <td>27</td>\n",
       "      <td>12</td>\n",
       "      <td>2019</td>\n",
       "      <td>Winter</td>\n",
       "    </tr>\n",
       "    <tr>\n",
       "      <th>21545</th>\n",
       "      <td>28/12/2019</td>\n",
       "      <td>13.9</td>\n",
       "      <td>4.1</td>\n",
       "      <td>0.0</td>\n",
       "      <td>8.4</td>\n",
       "      <td>28</td>\n",
       "      <td>12</td>\n",
       "      <td>2019</td>\n",
       "      <td>Winter</td>\n",
       "    </tr>\n",
       "    <tr>\n",
       "      <th>21546</th>\n",
       "      <td>29/12/2019</td>\n",
       "      <td>15.9</td>\n",
       "      <td>6.1</td>\n",
       "      <td>0.0</td>\n",
       "      <td>8.4</td>\n",
       "      <td>29</td>\n",
       "      <td>12</td>\n",
       "      <td>2019</td>\n",
       "      <td>Winter</td>\n",
       "    </tr>\n",
       "    <tr>\n",
       "      <th>21547</th>\n",
       "      <td>30/12/2019</td>\n",
       "      <td>14.8</td>\n",
       "      <td>0.9</td>\n",
       "      <td>0.0</td>\n",
       "      <td>8.4</td>\n",
       "      <td>30</td>\n",
       "      <td>12</td>\n",
       "      <td>2019</td>\n",
       "      <td>Winter</td>\n",
       "    </tr>\n",
       "    <tr>\n",
       "      <th>21548</th>\n",
       "      <td>31/12/2019</td>\n",
       "      <td>13.8</td>\n",
       "      <td>4.0</td>\n",
       "      <td>0.0</td>\n",
       "      <td>6.6</td>\n",
       "      <td>31</td>\n",
       "      <td>12</td>\n",
       "      <td>2019</td>\n",
       "      <td>Winter</td>\n",
       "    </tr>\n",
       "  </tbody>\n",
       "</table>\n",
       "</div>"
      ],
      "text/plain": [
       "             Date  Tmax  Tmin  Rain  Sunhours  Day  Month  Year  Season\n",
       "21534  17/12/2019   8.9   3.3   3.6       4.9   17     12  2019  Autumn\n",
       "21535  18/12/2019  14.8   7.9  72.8       0.0   18     12  2019  Autumn\n",
       "21536  19/12/2019  14.1   8.4  27.8       0.0   19     12  2019  Autumn\n",
       "21537  20/12/2019  11.8   8.2  22.7       0.0   20     12  2019  Autumn\n",
       "21538  21/12/2019  15.1  10.5  25.5       NaN   21     12  2019  Winter\n",
       "21539  22/12/2019  14.3   8.6  12.2       1.8   22     12  2019  Winter\n",
       "21540  23/12/2019  13.5   8.2   5.5       0.0   23     12  2019  Winter\n",
       "21541  24/12/2019  17.5  11.3   0.1       6.5   24     12  2019  Winter\n",
       "21542  25/12/2019  19.4  10.7   2.9       5.2   25     12  2019  Winter\n",
       "21543  26/12/2019  13.3   5.3   0.0       5.0   26     12  2019  Winter\n",
       "21544  27/12/2019  12.1   2.8   0.0       NaN   27     12  2019  Winter\n",
       "21545  28/12/2019  13.9   4.1   0.0       8.4   28     12  2019  Winter\n",
       "21546  29/12/2019  15.9   6.1   0.0       8.4   29     12  2019  Winter\n",
       "21547  30/12/2019  14.8   0.9   0.0       8.4   30     12  2019  Winter\n",
       "21548  31/12/2019  13.8   4.0   0.0       6.6   31     12  2019  Winter"
      ]
     },
     "execution_count": 123,
     "metadata": {},
     "output_type": "execute_result"
    }
   ],
   "source": [
    "meteo.loc[(meteo['Month'] < 3) | ((meteo['Month'] == 3) & (meteo['Day'] < 20)), 'Season'] = 'Winter'\n",
    "meteo.loc[(meteo['Month'] == 3) & (meteo['Day'] >= 20), 'Season'] = 'Spring'\n",
    "meteo.loc[(meteo['Month'] == 4) | (meteo['Month'] == 5), 'Season'] = 'Spring'\n",
    "meteo.loc[(meteo['Month'] == 6) & (meteo['Day'] < 20), 'Season'] = 'Spring'\n",
    "meteo.loc[(meteo['Month'] == 6) & (meteo['Day'] >= 20), 'Season'] = 'Summer'\n",
    "meteo.loc[(meteo['Month'] == 7) | (meteo['Month'] == 8), 'Season'] = 'Summer'\n",
    "meteo.loc[(meteo['Month'] == 9) & (meteo['Day'] < 22), 'Season'] = 'Summer'\n",
    "meteo.loc[(meteo['Month'] == 9) & (meteo['Day'] >= 22), 'Season'] = 'Autumn'\n",
    "meteo.loc[(meteo['Month'] == 10) | (meteo['Month'] == 11), 'Season'] = 'Autumn'\n",
    "meteo.loc[(meteo['Month'] == 12) & (meteo['Day'] < 21), 'Season'] = 'Autumn'\n",
    "meteo.loc[(meteo['Month'] == 12) & (meteo['Day'] >= 21), 'Season'] = 'Winter'\n",
    "meteo.tail(15)"
   ]
  },
  {
   "cell_type": "markdown",
   "metadata": {},
   "source": [
    "Finally, we can check the type of each column for the last time"
   ]
  },
  {
   "cell_type": "code",
   "execution_count": 124,
   "metadata": {},
   "outputs": [
    {
     "data": {
      "text/plain": [
       "Date         object\n",
       "Tmax        float64\n",
       "Tmin        float64\n",
       "Rain        float64\n",
       "Sunhours    float64\n",
       "Day           int64\n",
       "Month         int64\n",
       "Year          int64\n",
       "Season       object\n",
       "dtype: object"
      ]
     },
     "execution_count": 124,
     "metadata": {},
     "output_type": "execute_result"
    }
   ],
   "source": [
    "meteo.dtypes"
   ]
  },
  {
   "cell_type": "markdown",
   "metadata": {},
   "source": [
    "# 2. Data analysis"
   ]
  },
  {
   "cell_type": "markdown",
   "metadata": {},
   "source": [
    "## 2.1 Maximum temperatures"
   ]
  },
  {
   "cell_type": "markdown",
   "metadata": {},
   "source": [
    "Let's take a look to the maximum temperatures of each year. Using meteo dataframe, we will calculate the mean value for each year"
   ]
  },
  {
   "cell_type": "code",
   "execution_count": 125,
   "metadata": {},
   "outputs": [
    {
     "data": {
      "text/html": [
       "<div>\n",
       "<style scoped>\n",
       "    .dataframe tbody tr th:only-of-type {\n",
       "        vertical-align: middle;\n",
       "    }\n",
       "\n",
       "    .dataframe tbody tr th {\n",
       "        vertical-align: top;\n",
       "    }\n",
       "\n",
       "    .dataframe thead th {\n",
       "        text-align: right;\n",
       "    }\n",
       "</style>\n",
       "<table border=\"1\" class=\"dataframe\">\n",
       "  <thead>\n",
       "    <tr style=\"text-align: right;\">\n",
       "      <th></th>\n",
       "      <th>Year</th>\n",
       "      <th>Tmax</th>\n",
       "    </tr>\n",
       "  </thead>\n",
       "  <tbody>\n",
       "    <tr>\n",
       "      <th>0</th>\n",
       "      <td>1961</td>\n",
       "      <td>18.722740</td>\n",
       "    </tr>\n",
       "    <tr>\n",
       "      <th>1</th>\n",
       "      <td>1962</td>\n",
       "      <td>17.649315</td>\n",
       "    </tr>\n",
       "    <tr>\n",
       "      <th>2</th>\n",
       "      <td>1963</td>\n",
       "      <td>17.086575</td>\n",
       "    </tr>\n",
       "    <tr>\n",
       "      <th>3</th>\n",
       "      <td>1964</td>\n",
       "      <td>17.944262</td>\n",
       "    </tr>\n",
       "    <tr>\n",
       "      <th>4</th>\n",
       "      <td>1965</td>\n",
       "      <td>17.298575</td>\n",
       "    </tr>\n",
       "  </tbody>\n",
       "</table>\n",
       "</div>"
      ],
      "text/plain": [
       "   Year       Tmax\n",
       "0  1961  18.722740\n",
       "1  1962  17.649315\n",
       "2  1963  17.086575\n",
       "3  1964  17.944262\n",
       "4  1965  17.298575"
      ]
     },
     "execution_count": 125,
     "metadata": {},
     "output_type": "execute_result"
    }
   ],
   "source": [
    "df_tmax = meteo.groupby(['Year'])[['Tmax']].mean()\n",
    "df_tmax.index = map(int, df_tmax.index)\n",
    "df_tmax.reset_index(inplace = True)\n",
    "df_tmax.columns = ['Year', 'Tmax']\n",
    "df_tmax.head()"
   ]
  },
  {
   "cell_type": "markdown",
   "metadata": {},
   "source": [
    "Let's take a look in a scatter plot"
   ]
  },
  {
   "cell_type": "code",
   "execution_count": 126,
   "metadata": {},
   "outputs": [
    {
     "data": {
      "image/png": "[encoded data removed]",
      "text/plain": [
       "<Figure size 1008x720 with 1 Axes>"
      ]
     },
     "metadata": {
      "needs_background": "light"
     },
     "output_type": "display_data"
    }
   ],
   "source": [
    "df_tmax.plot(kind='scatter', x='Year', y='Tmax', figsize=(14, 10), color='darkblue')\n",
    "\n",
    "plt.title('Average of maximum temperatures 1961 - 2019')\n",
    "plt.xlabel('Year')\n",
    "plt.ylabel('Temperature ºC')\n",
    "plt.yticks(range(15,22))\n",
    "\n",
    "plt.show()"
   ]
  },
  {
   "cell_type": "markdown",
   "metadata": {},
   "source": [
    "You don't have to be an expert to realize at a glance that values are increasing. Maybe a mean line could helps"
   ]
  },
  {
   "cell_type": "code",
   "execution_count": 127,
   "metadata": {},
   "outputs": [
    {
     "data": {
      "image/png": "[encoded data removed]",
      "text/plain": [
       "<Figure size 1008x720 with 1 Axes>"
      ]
     },
     "metadata": {
      "needs_background": "light"
     },
     "output_type": "display_data"
    }
   ],
   "source": [
    "df_tmax.plot(kind='scatter', x='Year', y='Tmax', figsize=(14, 10), color='darkblue')\n",
    "\n",
    "plt.title('Average of maximum temperatures 1961 - 2019')\n",
    "plt.xlabel('Year')\n",
    "plt.ylabel('Temperature ºC')\n",
    "plt.yticks(range(15,22))\n",
    "y_mean = [np.mean(df_tmax['Tmax']) for i in df_tmax['Year']]\n",
    "plt.plot(df_tmax['Year'],y_mean, color='green', linestyle='--')\n",
    "\n",
    "plt.show()"
   ]
  },
  {
   "cell_type": "markdown",
   "metadata": {},
   "source": [
    "## 2.2 Minimum temperatures"
   ]
  },
  {
   "cell_type": "markdown",
   "metadata": {},
   "source": [
    "We can try the same visualization for minimum temperatures. Let's check it"
   ]
  },
  {
   "cell_type": "code",
   "execution_count": 128,
   "metadata": {},
   "outputs": [
    {
     "data": {
      "image/png": "[encoded data removed]",
      "text/plain": [
       "<Figure size 1008x720 with 1 Axes>"
      ]
     },
     "metadata": {
      "needs_background": "light"
     },
     "output_type": "display_data"
    }
   ],
   "source": [
    "df_tmin = meteo.groupby(['Year'])[['Tmin']].mean()\n",
    "df_tmin.index = map(int, df_tmin.index)\n",
    "df_tmin.reset_index(inplace = True)\n",
    "df_tmin.columns = ['Year', 'Tmin']\n",
    "\n",
    "df_tmin.plot(kind='scatter', x='Year', y='Tmin', figsize=(14, 10), color='darkblue')\n",
    "\n",
    "plt.title('Average of minimum temperatures 1961 - 2019')\n",
    "plt.xlabel('Year')\n",
    "plt.ylabel('Temperature ºC')\n",
    "y_mean = [np.mean(df_tmin['Tmin']) for i in df_tmin['Year']]\n",
    "plt.plot(df_tmin['Year'],y_mean, color='green', linestyle='--')\n",
    "\n",
    "plt.show()"
   ]
  },
  {
   "cell_type": "markdown",
   "metadata": {},
   "source": [
    "Yes, the values of the last years are bigger than mean"
   ]
  },
  {
   "cell_type": "markdown",
   "metadata": {},
   "source": [
    "## 2.3 Rainfalls"
   ]
  },
  {
   "cell_type": "markdown",
   "metadata": {},
   "source": [
    "What happend with the rainfalls? Let's try to visualize how the values has changed over time"
   ]
  },
  {
   "cell_type": "code",
   "execution_count": 129,
   "metadata": {},
   "outputs": [
    {
     "data": {
      "image/png": "[encoded data removed]",
      "text/plain": [
       "<Figure size 1008x720 with 1 Axes>"
      ]
     },
     "metadata": {
      "needs_background": "light"
     },
     "output_type": "display_data"
    }
   ],
   "source": [
    "df_rain = meteo.groupby(['Year'])[['Rain']].sum()\n",
    "df_rain.index = map(int, df_rain.index)\n",
    "df_rain.reset_index(inplace = True)\n",
    "df_rain.columns = ['Year', 'Rain']\n",
    "\n",
    "df_rain.plot(kind='bar', x='Year', y='Rain', figsize=(14, 10), color='darkblue', width=0.6)\n",
    "\n",
    "plt.title('Total rain (liters) 1961 - 2019')\n",
    "plt.xlabel('Year')\n",
    "plt.ylabel('Rain')\n",
    "plt.axhline(df_rain['Rain'].mean(), color='green', linestyle='--')\n",
    "\n",
    "plt.show()"
   ]
  },
  {
   "cell_type": "markdown",
   "metadata": {},
   "source": [
    "The values seem to be lower than mean in last years, but it's more difficult to visualize. In next chapters, we will analyze it in detail."
   ]
  },
  {
   "cell_type": "markdown",
   "metadata": {},
   "source": [
    "## 2.4 1962 vs 2019: The first vs the last"
   ]
  },
  {
   "cell_type": "markdown",
   "metadata": {},
   "source": [
    "How is a winter in Vigo? Let's check it visualizating 2019 values"
   ]
  },
  {
   "cell_type": "code",
   "execution_count": 130,
   "metadata": {},
   "outputs": [
    {
     "data": {
      "text/html": [
       "<div>\n",
       "<style scoped>\n",
       "    .dataframe tbody tr th:only-of-type {\n",
       "        vertical-align: middle;\n",
       "    }\n",
       "\n",
       "    .dataframe tbody tr th {\n",
       "        vertical-align: top;\n",
       "    }\n",
       "\n",
       "    .dataframe thead th {\n",
       "        text-align: right;\n",
       "    }\n",
       "</style>\n",
       "<table border=\"1\" class=\"dataframe\">\n",
       "  <thead>\n",
       "    <tr style=\"text-align: right;\">\n",
       "      <th></th>\n",
       "      <th>Tmax</th>\n",
       "      <th>Count</th>\n",
       "    </tr>\n",
       "  </thead>\n",
       "  <tbody>\n",
       "    <tr>\n",
       "      <th>0</th>\n",
       "      <td>0</td>\n",
       "      <td>0</td>\n",
       "    </tr>\n",
       "    <tr>\n",
       "      <th>1</th>\n",
       "      <td>1</td>\n",
       "      <td>0</td>\n",
       "    </tr>\n",
       "    <tr>\n",
       "      <th>2</th>\n",
       "      <td>2</td>\n",
       "      <td>0</td>\n",
       "    </tr>\n",
       "    <tr>\n",
       "      <th>3</th>\n",
       "      <td>3</td>\n",
       "      <td>0</td>\n",
       "    </tr>\n",
       "    <tr>\n",
       "      <th>4</th>\n",
       "      <td>4</td>\n",
       "      <td>0</td>\n",
       "    </tr>\n",
       "    <tr>\n",
       "      <th>5</th>\n",
       "      <td>5</td>\n",
       "      <td>0</td>\n",
       "    </tr>\n",
       "    <tr>\n",
       "      <th>6</th>\n",
       "      <td>6</td>\n",
       "      <td>0</td>\n",
       "    </tr>\n",
       "    <tr>\n",
       "      <th>7</th>\n",
       "      <td>7</td>\n",
       "      <td>1</td>\n",
       "    </tr>\n",
       "    <tr>\n",
       "      <th>8</th>\n",
       "      <td>8</td>\n",
       "      <td>0</td>\n",
       "    </tr>\n",
       "    <tr>\n",
       "      <th>9</th>\n",
       "      <td>9</td>\n",
       "      <td>1</td>\n",
       "    </tr>\n",
       "    <tr>\n",
       "      <th>10</th>\n",
       "      <td>10</td>\n",
       "      <td>3</td>\n",
       "    </tr>\n",
       "    <tr>\n",
       "      <th>11</th>\n",
       "      <td>11</td>\n",
       "      <td>7</td>\n",
       "    </tr>\n",
       "    <tr>\n",
       "      <th>12</th>\n",
       "      <td>12</td>\n",
       "      <td>24</td>\n",
       "    </tr>\n",
       "    <tr>\n",
       "      <th>13</th>\n",
       "      <td>13</td>\n",
       "      <td>8</td>\n",
       "    </tr>\n",
       "    <tr>\n",
       "      <th>14</th>\n",
       "      <td>14</td>\n",
       "      <td>15</td>\n",
       "    </tr>\n",
       "    <tr>\n",
       "      <th>15</th>\n",
       "      <td>15</td>\n",
       "      <td>11</td>\n",
       "    </tr>\n",
       "    <tr>\n",
       "      <th>16</th>\n",
       "      <td>16</td>\n",
       "      <td>2</td>\n",
       "    </tr>\n",
       "    <tr>\n",
       "      <th>17</th>\n",
       "      <td>17</td>\n",
       "      <td>3</td>\n",
       "    </tr>\n",
       "    <tr>\n",
       "      <th>18</th>\n",
       "      <td>18</td>\n",
       "      <td>5</td>\n",
       "    </tr>\n",
       "    <tr>\n",
       "      <th>19</th>\n",
       "      <td>19</td>\n",
       "      <td>2</td>\n",
       "    </tr>\n",
       "    <tr>\n",
       "      <th>20</th>\n",
       "      <td>20</td>\n",
       "      <td>3</td>\n",
       "    </tr>\n",
       "    <tr>\n",
       "      <th>21</th>\n",
       "      <td>21</td>\n",
       "      <td>1</td>\n",
       "    </tr>\n",
       "    <tr>\n",
       "      <th>22</th>\n",
       "      <td>22</td>\n",
       "      <td>2</td>\n",
       "    </tr>\n",
       "    <tr>\n",
       "      <th>23</th>\n",
       "      <td>23</td>\n",
       "      <td>1</td>\n",
       "    </tr>\n",
       "    <tr>\n",
       "      <th>24</th>\n",
       "      <td>24</td>\n",
       "      <td>0</td>\n",
       "    </tr>\n",
       "    <tr>\n",
       "      <th>25</th>\n",
       "      <td>25</td>\n",
       "      <td>0</td>\n",
       "    </tr>\n",
       "  </tbody>\n",
       "</table>\n",
       "</div>"
      ],
      "text/plain": [
       "    Tmax  Count\n",
       "0      0      0\n",
       "1      1      0\n",
       "2      2      0\n",
       "3      3      0\n",
       "4      4      0\n",
       "5      5      0\n",
       "6      6      0\n",
       "7      7      1\n",
       "8      8      0\n",
       "9      9      1\n",
       "10    10      3\n",
       "11    11      7\n",
       "12    12     24\n",
       "13    13      8\n",
       "14    14     15\n",
       "15    15     11\n",
       "16    16      2\n",
       "17    17      3\n",
       "18    18      5\n",
       "19    19      2\n",
       "20    20      3\n",
       "21    21      1\n",
       "22    22      2\n",
       "23    23      1\n",
       "24    24      0\n",
       "25    25      0"
      ]
     },
     "execution_count": 130,
     "metadata": {},
     "output_type": "execute_result"
    }
   ],
   "source": [
    "# Filter values from winter 2019\n",
    "df_w2019 = meteo[['Tmax']].loc[(meteo['Year'] == 2019) & (meteo['Season'] == 'Winter')]\n",
    "# Round values and convert into integer\n",
    "df_w2019['Tmax'] = round(df_w2019['Tmax'],0)\n",
    "df_w2019 = df_w2019.astype({'Tmax':int})\n",
    "# Count values\n",
    "df_w2019 = df_w2019.groupby(['Tmax'])[['Tmax']].count()\n",
    "# Change the dataframe to a better format\n",
    "df_w2019.index = map(int, df_w2019.index)\n",
    "df_w2019.reset_index(inplace = True)\n",
    "df_w2019.columns = ['Tmax','Count']\n",
    "# Extend the temperature values from 0 to 25\n",
    "temp, count = [], []\n",
    "for i in range(0,26):\n",
    "    temp.append(i)\n",
    "    if not df_w2019['Tmax'].loc[(df_w2019['Tmax'] == i).sum()] == 0:\n",
    "        count.append(df_w2019['Count'].loc[(df_w2019['Tmax'] == i)].sum())\n",
    "    else:\n",
    "        count.append(0)\n",
    "df_w2019 = pd.DataFrame(list(zip(temp,count)), columns=['Tmax','Count'])\n",
    "df_w2019"
   ]
  },
  {
   "cell_type": "code",
   "execution_count": 131,
   "metadata": {},
   "outputs": [
    {
     "data": {
      "image/png": "[encoded data removed]",
      "text/plain": [
       "<Figure size 1008x720 with 1 Axes>"
      ]
     },
     "metadata": {
      "needs_background": "light"
     },
     "output_type": "display_data"
    }
   ],
   "source": [
    "df_w2019.plot(kind='bar', x='Tmax', y='Count', figsize=(14, 10), color='darkblue', width=0.8)\n",
    "\n",
    "plt.title('Count of maximum temperatures - Winter 2019')\n",
    "plt.xlabel('Maximun temperature ºC')\n",
    "plt.ylabel('Number of days')\n",
    "plt.xticks(range(0,26))\n",
    "for index,value in enumerate(df_w2019['Count']): \n",
    "    # place text at the end of bar\n",
    "    plt.annotate(value, xy=(index-0.2, value+0.3), color='black')\n",
    "\n",
    "plt.show()"
   ]
  },
  {
   "cell_type": "markdown",
   "metadata": {},
   "source": [
    "The most frequent temperature is 12ºC, but most days it's between 12 and 15ºC (this values are 65%). There are only 2 days under 10ºC, so the weather is warm for a winter.\n",
    "\n",
    "But, was this always like this? We will take a look to 1962, for example."
   ]
  },
  {
   "cell_type": "code",
   "execution_count": 132,
   "metadata": {},
   "outputs": [
    {
     "data": {
      "image/png": "[encoded data removed]",
      "text/plain": [
       "<Figure size 1008x720 with 1 Axes>"
      ]
     },
     "metadata": {
      "needs_background": "light"
     },
     "output_type": "display_data"
    }
   ],
   "source": [
    "# Filter values from winter 1962\n",
    "df_w1962 = meteo[['Tmax']].loc[(meteo['Year'] == 1962) & (meteo['Season'] == 'Winter')]\n",
    "# Round values and convert into integer\n",
    "df_w1962['Tmax'] = round(df_w1962['Tmax'],0)\n",
    "df_w1962 = df_w1962.astype({'Tmax':int})\n",
    "# Count values\n",
    "df_w1962 = df_w1962.groupby(['Tmax'])[['Tmax']].count()\n",
    "# Change the dataframe to a better format\n",
    "df_w1962.index = map(int, df_w1962.index)\n",
    "df_w1962.reset_index(inplace = True)\n",
    "df_w1962.columns = ['Tmax','Count']\n",
    "# Extend the temperature values from 0 to 25\n",
    "temp, count = [], []\n",
    "for i in range(0,26):\n",
    "    temp.append(i)\n",
    "    if not df_w1962['Tmax'].loc[(df_w1962['Tmax'] == i).sum()] == 0:\n",
    "        count.append(df_w1962['Count'].loc[(df_w1962['Tmax'] == i)].sum())\n",
    "    else:\n",
    "        count.append(0)\n",
    "df_w1962 = pd.DataFrame(list(zip(temp,count)), columns=['Tmax','Count'])\n",
    "\n",
    "df_w1962.plot(kind='bar', x='Tmax', y='Count', figsize=(14, 10), color='darkblue', width=0.8)\n",
    "\n",
    "plt.title('Count of maximum temperatures - Winter 1962')\n",
    "plt.xlabel('Maximun temperature ºC')\n",
    "plt.ylabel('Number of days')\n",
    "plt.xticks(range(0,26))\n",
    "for index,value in enumerate(df_w1962['Count']): \n",
    "    # place text at the end of bar\n",
    "    plt.annotate(value, xy=(index-0.2, value+0.3), color='black')\n",
    "\n",
    "plt.show()"
   ]
  },
  {
   "cell_type": "markdown",
   "metadata": {},
   "source": [
    "The most frequent temperate was 12ºC for 1962 too, and the range 12-15ºC was now the 53%. This values may seem similar to 2019 data, but in 1962 there were 12 days under 10ºC versus 2 days in 2019, and in 1962 there weren't any day over 16ºC versus 17 days in 2019.\n",
    "\n",
    "We can conclude that in 1962 there were more cold days than 2019, and in 2019 there were more warm days than 1962. The following plot compares both."
   ]
  },
  {
   "cell_type": "code",
   "execution_count": 133,
   "metadata": {},
   "outputs": [
    {
     "data": {
      "image/png": "[encoded data removed]",
      "text/plain": [
       "<Figure size 1008x720 with 1 Axes>"
      ]
     },
     "metadata": {
      "needs_background": "light"
     },
     "output_type": "display_data"
    }
   ],
   "source": [
    "ax = df_w2019.plot(kind='bar', x='Tmax', y='Count', figsize=(14, 10), color='green', width=0.8, alpha=0.3)\n",
    "df_w1962[['Count']].plot(ax=ax, kind='bar', figsize=(14, 10), color='blue', width=0.8, alpha=0.3 )\n",
    "\n",
    "ax.legend(['2019','1962'])\n",
    "plt.title('Maximun temperatures comparation - Winter 1962 vs. 2019')\n",
    "plt.xlabel('Maximun temperature ºC')\n",
    "plt.ylabel('Number of days')\n",
    "plt.xticks(range(0,26))\n",
    "for index,value in enumerate(df_w1962['Count']): \n",
    "    # place text at the end of bar\n",
    "    plt.annotate(value, xy=(index-0.2, value+0.3), color='blue')\n",
    "for index,value in enumerate(df_w2019['Count']): \n",
    "    plt.annotate(value, xy=(index-0.2, value+0.3), color='darkgreen')\n",
    "\n",
    "plt.show()"
   ]
  },
  {
   "cell_type": "markdown",
   "metadata": {},
   "source": [
    "This was the analysis between two concrete years. If we evaluate a bigger period, we should obtain results without significative desviations. So, let's compare de period between 1961 and 1969 versus 2011 and 2019."
   ]
  },
  {
   "cell_type": "markdown",
   "metadata": {},
   "source": [
    "## 2.5 Winter: 1960's vs 2010's"
   ]
  },
  {
   "cell_type": "markdown",
   "metadata": {},
   "source": [
    "For a easiest data manipulation, we will create a function to select our necessary data"
   ]
  },
  {
   "cell_type": "code",
   "execution_count": 134,
   "metadata": {},
   "outputs": [],
   "source": [
    "def selectVal(df,searched,season,ini,end):\n",
    "    # Filter values from 1961-1969\n",
    "    df2 = df[[searched]].loc[(df['Year'] >= ini) & (df['Year'] <= end) & (df['Season'] == season)]\n",
    "    # Round values and convert into integer\n",
    "    df2[searched] = round(df2[searched],0)\n",
    "    df2 = df2.astype({searched:int})\n",
    "    # Count values\n",
    "    df2 = df2.groupby([searched])[[searched]].count()\n",
    "    # Change the dataframe to a better format\n",
    "    df2.index = map(int, df2.index)\n",
    "    df2.reset_index(inplace = True)\n",
    "    df2.columns = [searched,'Count']\n",
    "    # Extend the temperature values \n",
    "    temp, count = [], []\n",
    "    for i in range(0,50):\n",
    "        temp.append(i-5)\n",
    "        if not df2['Count'].loc[(df2[searched] == i-5)].sum() == 0:\n",
    "            count.append(df2['Count'].loc[(df2[searched] == i-5)].sum())\n",
    "        else:\n",
    "            count.append(0)\n",
    "    df2 = pd.DataFrame(list(zip(temp,count)), columns=[searched,'Count'])\n",
    "    \n",
    "    return df2"
   ]
  },
  {
   "cell_type": "markdown",
   "metadata": {},
   "source": [
    "Let's select both periods and compare them"
   ]
  },
  {
   "cell_type": "code",
   "execution_count": 135,
   "metadata": {},
   "outputs": [
    {
     "data": {
      "image/png": "[encoded data removed]",
      "text/plain": [
       "<Figure size 1008x720 with 1 Axes>"
      ]
     },
     "metadata": {
      "needs_background": "light"
     },
     "output_type": "display_data"
    }
   ],
   "source": [
    "df_w1960 = selectVal(meteo,'Tmax','Winter',1961,1969)\n",
    "df_w2010 = selectVal(meteo,'Tmax','Winter',2011,2019)\n",
    "\n",
    "# To plot de bar char\n",
    "ax = df_w2010.plot(kind='bar', x='Tmax', y='Count', figsize=(14, 10), color='green', width=0.8, alpha=0.3)\n",
    "df_w1960.plot(ax=ax, kind='bar', x='Tmax', y='Count', figsize=(14, 10), color='blue', width=0.8, alpha=0.3 )\n",
    "\n",
    "ax.legend(['2011-2019','1961-1969'])\n",
    "plt.title('Maximun temperatures comparation - Winter 1961-1969 vs. 2011-2019')\n",
    "plt.xlabel('Maximun temperature ºC')\n",
    "plt.ylabel('Number of days')\n",
    "\n",
    "plt.show()"
   ]
  },
  {
   "cell_type": "markdown",
   "metadata": {},
   "source": [
    "Taking 12ºC as reference, we can conclude that in the range between 1961 and 1969 there were more cold days, and between 2011 and 2019 there were more warm days.\n",
    "\n",
    "Let's try the same compatarion, but this time using minimum temperatures."
   ]
  },
  {
   "cell_type": "code",
   "execution_count": 136,
   "metadata": {},
   "outputs": [
    {
     "data": {
      "image/png": "[encoded data removed]",
      "text/plain": [
       "<Figure size 1008x720 with 1 Axes>"
      ]
     },
     "metadata": {
      "needs_background": "light"
     },
     "output_type": "display_data"
    }
   ],
   "source": [
    "df_w1960 = selectVal(meteo,'Tmin','Winter',1961,1969)\n",
    "df_w2010 = selectVal(meteo,'Tmin','Winter',2011,2019)\n",
    "\n",
    "# To plot de bar char\n",
    "ax = df_w2010.plot(kind='bar', x='Tmin', y='Count', figsize=(14, 10), color='green', width=0.8, alpha=0.3)\n",
    "df_w1960.plot(ax=ax, kind='bar',x='Tmin', y='Count', figsize=(14, 10), color='blue', width=0.8, alpha=0.3)\n",
    "\n",
    "ax.legend(['2011-2019','1961-1969'])\n",
    "plt.title('Minimum temperatures comparation - Winter 1961-1969 vs. 2011-2019')\n",
    "plt.xlabel('Minimum temperature ºC')\n",
    "plt.ylabel('Number of days')\n",
    "\n",
    "plt.show()"
   ]
  },
  {
   "cell_type": "markdown",
   "metadata": {},
   "source": [
    "Temperatures lower than 4ºC were more frequent in 1961-1969, while bigger than 7ºC were in the range 2011-2019 "
   ]
  },
  {
   "cell_type": "markdown",
   "metadata": {},
   "source": [
    "## 2.6 Spring: 1960's vs 2010's"
   ]
  },
  {
   "cell_type": "markdown",
   "metadata": {},
   "source": [
    "Let's repeat the same process to maximum temperatures in spring"
   ]
  },
  {
   "cell_type": "code",
   "execution_count": 137,
   "metadata": {},
   "outputs": [
    {
     "data": {
      "image/png": "[encoded data removed]",
      "text/plain": [
       "<Figure size 1008x720 with 1 Axes>"
      ]
     },
     "metadata": {
      "needs_background": "light"
     },
     "output_type": "display_data"
    }
   ],
   "source": [
    "df_sp1960 = selectVal(meteo,'Tmax','Spring',1961,1969)\n",
    "df_sp2010 = selectVal(meteo,'Tmax','Spring',2011,2019)\n",
    "\n",
    "# To plot de bar char\n",
    "ax = df_sp2010.plot(kind='bar', x='Tmax', y='Count', figsize=(14, 10), color='green', width=0.8, alpha=0.3)\n",
    "df_sp1960.plot(ax=ax, kind='bar', x='Tmax', y='Count', figsize=(14, 10), color='blue', width=0.8, alpha=0.3)\n",
    "\n",
    "ax.legend(['2011-2019','1961-1969'])\n",
    "plt.title('Maximun temperatures comparation - Spring 1961-1969 vs. 2011-2019')\n",
    "plt.xlabel('Maximun temperature ºC')\n",
    "plt.ylabel('Number of days')\n",
    "\n",
    "plt.show()"
   ]
  },
  {
   "cell_type": "markdown",
   "metadata": {},
   "source": [
    "The same pattern is repeated. The lowest temperatures correspond to 50 years ago, while the warmest values in recent years. Note that the most frequent maximum temperature was 15ºC for 1960's, and for the 2010's was three degrees bigger, 18ºC."
   ]
  },
  {
   "cell_type": "markdown",
   "metadata": {},
   "source": [
    "What about the maximum spring temperatures?"
   ]
  },
  {
   "cell_type": "code",
   "execution_count": 138,
   "metadata": {},
   "outputs": [
    {
     "data": {
      "image/png": "[encoded data removed]",
      "text/plain": [
       "<Figure size 1008x720 with 1 Axes>"
      ]
     },
     "metadata": {
      "needs_background": "light"
     },
     "output_type": "display_data"
    }
   ],
   "source": [
    "df_sp1960 = selectVal(meteo,'Tmin','Spring',1961,1969)\n",
    "df_sp2010 = selectVal(meteo,'Tmin','Spring',2011,2019)\n",
    "\n",
    "# To plot de bar char\n",
    "ax = df_sp2010.plot(kind='bar', x='Tmin', y='Count', figsize=(14, 10), color='green', width=0.8, alpha=0.3)\n",
    "df_sp1960.plot(ax=ax, kind='bar', x='Tmin', y='Count', figsize=(14, 10), color='blue', width=0.8, alpha=0.3)\n",
    "\n",
    "ax.legend(['2011-2019','1961-1969'])\n",
    "plt.title('Minimum temperatures comparation - Spring 1961-1969 vs. 2011-2019')\n",
    "plt.xlabel('Minimum temperature ºC')\n",
    "plt.ylabel('Number of days')\n",
    "\n",
    "plt.show()"
   ]
  },
  {
   "cell_type": "markdown",
   "metadata": {},
   "source": [
    "Everything as we expected. The most frequente minimum temperature increase 2 degrees."
   ]
  },
  {
   "cell_type": "markdown",
   "metadata": {},
   "source": [
    "## 2.7 Summer: 1960's vs 2010's"
   ]
  },
  {
   "cell_type": "markdown",
   "metadata": {},
   "source": [
    "The maximum temperatures first"
   ]
  },
  {
   "cell_type": "code",
   "execution_count": 139,
   "metadata": {},
   "outputs": [
    {
     "data": {
      "image/png": "[encoded data removed]",
      "text/plain": [
       "<Figure size 1008x720 with 1 Axes>"
      ]
     },
     "metadata": {
      "needs_background": "light"
     },
     "output_type": "display_data"
    }
   ],
   "source": [
    "df_s1960 = selectVal(meteo,'Tmax','Summer',1961,1969)\n",
    "df_s2010 = selectVal(meteo,'Tmax','Summer',2011,2019)\n",
    "\n",
    "# To plot de bar char\n",
    "ax = df_s2010.plot(kind='bar', x='Tmax', y='Count', figsize=(14, 10), color='green', width=0.8, alpha=0.3)\n",
    "df_s1960.plot(ax=ax, kind='bar', x='Tmax', y='Count', figsize=(14, 10), color='blue', width=0.8, alpha=0.3)\n",
    "\n",
    "ax.legend(['2011-2019','1961-1969'])\n",
    "plt.title('Maximun temperatures comparation - Summer 1961-1969 vs. 2011-2019')\n",
    "plt.xlabel('Maximun temperature ºC')\n",
    "plt.ylabel('Number of days')\n",
    "\n",
    "plt.show()"
   ]
  },
  {
   "cell_type": "markdown",
   "metadata": {},
   "source": [
    "Like spring values, the most frequent maximum temperature increase in three degrees, from 21ºC to 24ºC. \n",
    "\n",
    "Will the minimum values variation change in 2 degrees too?"
   ]
  },
  {
   "cell_type": "code",
   "execution_count": 140,
   "metadata": {},
   "outputs": [
    {
     "data": {
      "image/png": "[encoded data removed]",
      "text/plain": [
       "<Figure size 1008x720 with 1 Axes>"
      ]
     },
     "metadata": {
      "needs_background": "light"
     },
     "output_type": "display_data"
    }
   ],
   "source": [
    "df_s1960 = selectVal(meteo,'Tmin','Summer',1961,1969)\n",
    "df_s2010 = selectVal(meteo,'Tmin','Summer',2011,2019)\n",
    "\n",
    "# To plot de bar char\n",
    "ax = df_s2010.plot(kind='bar', x='Tmin', y='Count', figsize=(14, 10), color='green', width=0.8, alpha=0.3)\n",
    "df_s1960.plot(ax=ax, kind='bar', x='Tmin', y='Count', figsize=(14, 10), color='blue', width=0.8, alpha=0.3)\n",
    "\n",
    "ax.legend(['2011-2019','1961-1969'])\n",
    "plt.title('Minimum temperatures comparation - Summer 1961-1969 vs. 2011-2019')\n",
    "plt.xlabel('Minimum temperature ºC')\n",
    "plt.ylabel('Number of days')\n",
    "\n",
    "plt.show()"
   ]
  },
  {
   "cell_type": "markdown",
   "metadata": {},
   "source": [
    "No, the difference is even bigger with 3 degrees variaton, from 13ºC to 16ºC"
   ]
  },
  {
   "cell_type": "markdown",
   "metadata": {},
   "source": [
    "## 2.8 Autumn: 1960's vs 2010's"
   ]
  },
  {
   "cell_type": "markdown",
   "metadata": {},
   "source": [
    "Let's check the maximum temperatures for the last season"
   ]
  },
  {
   "cell_type": "code",
   "execution_count": 141,
   "metadata": {},
   "outputs": [
    {
     "data": {
      "image/png": "[encoded data removed]",
      "text/plain": [
       "<Figure size 1008x720 with 1 Axes>"
      ]
     },
     "metadata": {
      "needs_background": "light"
     },
     "output_type": "display_data"
    }
   ],
   "source": [
    "df_a1960 = selectVal(meteo,'Tmax','Autumn',1961,1969)\n",
    "df_a2010 = selectVal(meteo,'Tmax','Autumn',2011,2019)\n",
    "\n",
    "# To plot de bar char\n",
    "ax = df_a2010.plot(kind='bar', x='Tmax', y='Count', figsize=(14, 10), color='green', width=0.8, alpha=0.3)\n",
    "df_a1960.plot(ax=ax, kind='bar', x='Tmax', y='Count', figsize=(14, 10), color='blue', width=0.8, alpha=0.3)\n",
    "\n",
    "ax.legend(['2011-2019','1961-1969'])\n",
    "plt.title('Maximun temperatures comparation - Autumn 1961-1969 vs. 2011-2019')\n",
    "plt.xlabel('Maximun temperature ºC')\n",
    "plt.ylabel('Number of days')\n",
    "\n",
    "plt.show()"
   ]
  },
  {
   "cell_type": "markdown",
   "metadata": {},
   "source": [
    "The increase in the most frequent value is 2 degrees for this season, growing from 12 to 14ºC. \n",
    "\n",
    "Let's review the minimum temperatures"
   ]
  },
  {
   "cell_type": "code",
   "execution_count": 142,
   "metadata": {},
   "outputs": [
    {
     "data": {
      "image/png": "[encoded data removed]",
      "text/plain": [
       "<Figure size 1008x720 with 1 Axes>"
      ]
     },
     "metadata": {
      "needs_background": "light"
     },
     "output_type": "display_data"
    }
   ],
   "source": [
    "df_a1960 = selectVal(meteo,'Tmin','Autumn',1961,1969)\n",
    "df_a2010 = selectVal(meteo,'Tmin','Autumn',2011,2019)\n",
    "\n",
    "# To plot de bar char\n",
    "ax = df_a2010.plot(kind='bar', x='Tmin', y='Count', figsize=(14, 10), color='green', width=0.8, alpha=0.3)\n",
    "df_a1960.plot(ax=ax, kind='bar', x='Tmin', y='Count', figsize=(14, 10), color='blue', width=0.8, alpha=0.3)\n",
    "\n",
    "ax.legend(['2011-2019','1961-1969'])\n",
    "plt.title('Minimum temperatures comparation - Autumn 1961-1969 vs. 2011-2019')\n",
    "plt.xlabel('Minimum temperature ºC')\n",
    "plt.ylabel('Number of days')\n",
    "\n",
    "plt.show()"
   ]
  },
  {
   "cell_type": "markdown",
   "metadata": {},
   "source": [
    "The most frequent minimum temperature is one degree lower in the last decade, but the bigger values were again in 2010's and lower in 1960's"
   ]
  },
  {
   "cell_type": "markdown",
   "metadata": {},
   "source": [
    "## 2.9 Rainfalls: 1960's vs 2010's"
   ]
  },
  {
   "cell_type": "markdown",
   "metadata": {},
   "source": [
    "What about rainfalls? We will compare both periods too, but we will use a different plot, showing the mean rain per year for each season."
   ]
  },
  {
   "cell_type": "code",
   "execution_count": 143,
   "metadata": {},
   "outputs": [
    {
     "data": {
      "image/png": "[encoded data removed]",
      "text/plain": [
       "<Figure size 1008x720 with 1 Axes>"
      ]
     },
     "metadata": {
      "needs_background": "light"
     },
     "output_type": "display_data"
    }
   ],
   "source": [
    "rain1960 = meteo.loc[(meteo['Year'] >= 1961) & (meteo['Year'] <= 1969)]\n",
    "rain1960 = rain1960.groupby(['Year','Season'])[['Rain']].sum()\n",
    "rain1960 = rain1960.groupby(['Season'])[['Rain']].mean()\n",
    "rain1960['Rain'] = round(rain1960['Rain'],0)\n",
    "rain1960 = rain1960.astype({'Rain':int})\n",
    "rain1960.reset_index(inplace = True)\n",
    "rain1960.columns = ['Season','Rain']\n",
    "\n",
    "rain2010 = meteo.loc[(meteo['Year'] >= 2011) & (meteo['Year'] <= 2019)]\n",
    "rain2010 = rain2010.groupby(['Year','Season'])[['Rain']].sum()\n",
    "rain2010 = rain2010.groupby(['Season'])[['Rain']].mean()\n",
    "rain2010['Rain'] = round(rain2010['Rain'],0)\n",
    "rain2010 = rain2010.astype({'Rain':int})\n",
    "rain2010.reset_index(inplace = True)\n",
    "rain2010.columns = ['Season','Rain']\n",
    "\n",
    "# To plot de bar char\n",
    "ax = rain2010.plot(kind='bar', y='Rain', figsize=(14, 10), color='green', width=0.8, alpha=0.3, rot=0)\n",
    "rain1960.plot(ax=ax, kind='bar', y='Rain', figsize=(14, 10), color='blue', width=0.8, alpha=0.3, rot=0)\n",
    "\n",
    "ax.legend(['2011-2019','1961-1969'])\n",
    "plt.title('Average rain per season - 1961-1969 vs. 2011-2019')\n",
    "plt.xlabel('Season')\n",
    "plt.xticks(np.array([0,1,2,3]),['Autumn','Spring','Summer','Winter'])\n",
    "plt.ylabel('Rain (L/m2)')\n",
    "for index,value in enumerate(rain1960['Rain']): \n",
    "    plt.annotate((str(value)+' (1960)'), xy=(index-0.13, value+6), color='blue')\n",
    "for index,value in enumerate(rain2010['Rain']): \n",
    "    plt.annotate((str(value)+' (2010)'), xy=(index-0.13, value-18), color='darkgreen')\n",
    "\n",
    "plt.show()"
   ]
  },
  {
   "cell_type": "markdown",
   "metadata": {},
   "source": [
    "There are 2 very different situations. On the one hand, autumn and summer suffer a slight decrease (7,5% and 13% respectively), while the drop in rainfall in spring and winter is much more pronounced (33,8% and 19,2% respectively)."
   ]
  },
  {
   "cell_type": "markdown",
   "metadata": {},
   "source": [
    "# 3. Predictions"
   ]
  },
  {
   "cell_type": "markdown",
   "metadata": {},
   "source": [
    "Until now we have been reviewing the values since 1961, but what will happen in the future? Can we predict it?\n",
    "\n",
    "We cannot guess the future, but we can estimate what the expected values will be. To do this, we will use linear regression, and in order to simplify the results we will not work with seasons, focusing only on the annual values temperatures and rain."
   ]
  },
  {
   "cell_type": "markdown",
   "metadata": {},
   "source": [
    "## 3.1 Maximum temperatures"
   ]
  },
  {
   "cell_type": "markdown",
   "metadata": {},
   "source": [
    "Let's star plotting our maximum temperatures values and plotting the fit line (red line). We will create an easy function to calculte our predicted values"
   ]
  },
  {
   "cell_type": "code",
   "execution_count": 144,
   "metadata": {},
   "outputs": [
    {
     "data": {
      "text/plain": [
       "Text(0, 0.5, 'Temperature ºC')"
      ]
     },
     "execution_count": 144,
     "metadata": {},
     "output_type": "execute_result"
    },
    {
     "data": {
      "image/png": "[encoded data removed]",
      "text/plain": [
       "<Figure size 432x288 with 1 Axes>"
      ]
     },
     "metadata": {
      "needs_background": "light"
     },
     "output_type": "display_data"
    }
   ],
   "source": [
    "regr = linear_model.LinearRegression()\n",
    "x = np.asanyarray(df_tmax[['Year']])\n",
    "y = np.asanyarray(df_tmax[['Tmax']])\n",
    "regr.fit(x, y)\n",
    "\n",
    "def TmaxPredict(x):\n",
    "    y = regr.coef_[0][0]*x + regr.intercept_[0]\n",
    "    return y\n",
    "\n",
    "plt.scatter(df_tmax['Year'], df_tmax['Tmax'],  color='blue')\n",
    "plt.plot(x, TmaxPredict(x), '-r')\n",
    "plt.xlabel(\"Year\")\n",
    "plt.ylabel(\"Temperature ºC\")"
   ]
  },
  {
   "cell_type": "markdown",
   "metadata": {},
   "source": [
    "We are ready to predict the maximum temperatures. So, what will be the mean of the maximum temperatures in Vigo in 5 years? Let's calculate some years more"
   ]
  },
  {
   "cell_type": "code",
   "execution_count": 145,
   "metadata": {},
   "outputs": [
    {
     "data": {
      "text/html": [
       "<div>\n",
       "<style scoped>\n",
       "    .dataframe tbody tr th:only-of-type {\n",
       "        vertical-align: middle;\n",
       "    }\n",
       "\n",
       "    .dataframe tbody tr th {\n",
       "        vertical-align: top;\n",
       "    }\n",
       "\n",
       "    .dataframe thead th {\n",
       "        text-align: right;\n",
       "    }\n",
       "</style>\n",
       "<table border=\"1\" class=\"dataframe\">\n",
       "  <thead>\n",
       "    <tr style=\"text-align: right;\">\n",
       "      <th></th>\n",
       "      <th>Year</th>\n",
       "      <th>Tmax</th>\n",
       "    </tr>\n",
       "  </thead>\n",
       "  <tbody>\n",
       "    <tr>\n",
       "      <th>0</th>\n",
       "      <td>2020</td>\n",
       "      <td>19.023233</td>\n",
       "    </tr>\n",
       "    <tr>\n",
       "      <th>1</th>\n",
       "      <td>2025</td>\n",
       "      <td>19.192896</td>\n",
       "    </tr>\n",
       "    <tr>\n",
       "      <th>2</th>\n",
       "      <td>2030</td>\n",
       "      <td>19.362560</td>\n",
       "    </tr>\n",
       "    <tr>\n",
       "      <th>3</th>\n",
       "      <td>2035</td>\n",
       "      <td>19.532223</td>\n",
       "    </tr>\n",
       "    <tr>\n",
       "      <th>4</th>\n",
       "      <td>2040</td>\n",
       "      <td>19.701887</td>\n",
       "    </tr>\n",
       "    <tr>\n",
       "      <th>5</th>\n",
       "      <td>2045</td>\n",
       "      <td>19.871550</td>\n",
       "    </tr>\n",
       "    <tr>\n",
       "      <th>6</th>\n",
       "      <td>2050</td>\n",
       "      <td>20.041214</td>\n",
       "    </tr>\n",
       "    <tr>\n",
       "      <th>7</th>\n",
       "      <td>2055</td>\n",
       "      <td>20.210877</td>\n",
       "    </tr>\n",
       "    <tr>\n",
       "      <th>8</th>\n",
       "      <td>2060</td>\n",
       "      <td>20.380541</td>\n",
       "    </tr>\n",
       "    <tr>\n",
       "      <th>9</th>\n",
       "      <td>2065</td>\n",
       "      <td>20.550204</td>\n",
       "    </tr>\n",
       "    <tr>\n",
       "      <th>10</th>\n",
       "      <td>2070</td>\n",
       "      <td>20.719868</td>\n",
       "    </tr>\n",
       "    <tr>\n",
       "      <th>11</th>\n",
       "      <td>2075</td>\n",
       "      <td>20.889531</td>\n",
       "    </tr>\n",
       "    <tr>\n",
       "      <th>12</th>\n",
       "      <td>2080</td>\n",
       "      <td>21.059195</td>\n",
       "    </tr>\n",
       "    <tr>\n",
       "      <th>13</th>\n",
       "      <td>2085</td>\n",
       "      <td>21.228858</td>\n",
       "    </tr>\n",
       "    <tr>\n",
       "      <th>14</th>\n",
       "      <td>2090</td>\n",
       "      <td>21.398522</td>\n",
       "    </tr>\n",
       "    <tr>\n",
       "      <th>15</th>\n",
       "      <td>2095</td>\n",
       "      <td>21.568185</td>\n",
       "    </tr>\n",
       "    <tr>\n",
       "      <th>16</th>\n",
       "      <td>2100</td>\n",
       "      <td>21.737849</td>\n",
       "    </tr>\n",
       "    <tr>\n",
       "      <th>17</th>\n",
       "      <td>2105</td>\n",
       "      <td>21.907512</td>\n",
       "    </tr>\n",
       "    <tr>\n",
       "      <th>18</th>\n",
       "      <td>2110</td>\n",
       "      <td>22.077176</td>\n",
       "    </tr>\n",
       "    <tr>\n",
       "      <th>19</th>\n",
       "      <td>2115</td>\n",
       "      <td>22.246839</td>\n",
       "    </tr>\n",
       "    <tr>\n",
       "      <th>20</th>\n",
       "      <td>2120</td>\n",
       "      <td>22.416503</td>\n",
       "    </tr>\n",
       "    <tr>\n",
       "      <th>21</th>\n",
       "      <td>2125</td>\n",
       "      <td>22.586166</td>\n",
       "    </tr>\n",
       "    <tr>\n",
       "      <th>22</th>\n",
       "      <td>2130</td>\n",
       "      <td>22.755830</td>\n",
       "    </tr>\n",
       "    <tr>\n",
       "      <th>23</th>\n",
       "      <td>2135</td>\n",
       "      <td>22.925493</td>\n",
       "    </tr>\n",
       "    <tr>\n",
       "      <th>24</th>\n",
       "      <td>2140</td>\n",
       "      <td>23.095157</td>\n",
       "    </tr>\n",
       "    <tr>\n",
       "      <th>25</th>\n",
       "      <td>2145</td>\n",
       "      <td>23.264820</td>\n",
       "    </tr>\n",
       "    <tr>\n",
       "      <th>26</th>\n",
       "      <td>2150</td>\n",
       "      <td>23.434484</td>\n",
       "    </tr>\n",
       "  </tbody>\n",
       "</table>\n",
       "</div>"
      ],
      "text/plain": [
       "    Year       Tmax\n",
       "0   2020  19.023233\n",
       "1   2025  19.192896\n",
       "2   2030  19.362560\n",
       "3   2035  19.532223\n",
       "4   2040  19.701887\n",
       "5   2045  19.871550\n",
       "6   2050  20.041214\n",
       "7   2055  20.210877\n",
       "8   2060  20.380541\n",
       "9   2065  20.550204\n",
       "10  2070  20.719868\n",
       "11  2075  20.889531\n",
       "12  2080  21.059195\n",
       "13  2085  21.228858\n",
       "14  2090  21.398522\n",
       "15  2095  21.568185\n",
       "16  2100  21.737849\n",
       "17  2105  21.907512\n",
       "18  2110  22.077176\n",
       "19  2115  22.246839\n",
       "20  2120  22.416503\n",
       "21  2125  22.586166\n",
       "22  2130  22.755830\n",
       "23  2135  22.925493\n",
       "24  2140  23.095157\n",
       "25  2145  23.264820\n",
       "26  2150  23.434484"
      ]
     },
     "execution_count": 145,
     "metadata": {},
     "output_type": "execute_result"
    }
   ],
   "source": [
    "year, tmax = [], []\n",
    "for i in range(0,27):\n",
    "    val = 2020+(i*5)\n",
    "    year.append(val)\n",
    "    tmax.append(TmaxPredict(val))\n",
    "fut_tmax = pd.DataFrame(list(zip(year,tmax)), columns=['Year','Tmax'])\n",
    "fut_tmax"
   ]
  },
  {
   "cell_type": "markdown",
   "metadata": {},
   "source": [
    "We will try to assimilate the results. Remember that until 1990, the maximum annual temperature did not even reach 18ºC on average. If we go to 10 years from now, 2030, the average temperature will be 19,36ºC. If we move to 2050 (it's not that far, I'll be 66 years old!), the value will be 20ºC. This is 2 degrees more than I was born.\n",
    "\n",
    "What will happen to a person born in 2020? In 2100 he will be 80 years old, many of them will reach this age, and by then the temperature will be 21.7ºC. In 2150 the temperature will be 23,43ºC, and the grandchildren of our grandchildren will live it.\n"
   ]
  },
  {
   "cell_type": "markdown",
   "metadata": {},
   "source": [
    "## 3.2 Minimum temperatures"
   ]
  },
  {
   "cell_type": "markdown",
   "metadata": {},
   "source": [
    "We will repeat the same process for minimum temperatures, of course."
   ]
  },
  {
   "cell_type": "code",
   "execution_count": 146,
   "metadata": {},
   "outputs": [
    {
     "data": {
      "text/plain": [
       "Text(0, 0.5, 'Temperature ºC')"
      ]
     },
     "execution_count": 146,
     "metadata": {},
     "output_type": "execute_result"
    },
    {
     "data": {
      "image/png": "[encoded data removed]",
      "text/plain": [
       "<Figure size 432x288 with 1 Axes>"
      ]
     },
     "metadata": {
      "needs_background": "light"
     },
     "output_type": "display_data"
    }
   ],
   "source": [
    "from sklearn import linear_model\n",
    "regr = linear_model.LinearRegression()\n",
    "x = np.asanyarray(df_tmin[['Year']])\n",
    "y = np.asanyarray(df_tmin[['Tmin']])\n",
    "regr.fit(x, y)\n",
    "\n",
    "def TminPredict(x):\n",
    "    y = regr.coef_[0][0]*x + regr.intercept_[0]\n",
    "    return y\n",
    "\n",
    "plt.scatter(df_tmin['Year'], df_tmin['Tmin'],  color='blue')\n",
    "plt.plot(x, TminPredict(x), '-r')\n",
    "plt.xlabel(\"Year\")\n",
    "plt.ylabel(\"Temperature ºC\")"
   ]
  },
  {
   "cell_type": "code",
   "execution_count": 147,
   "metadata": {},
   "outputs": [
    {
     "data": {
      "text/html": [
       "<div>\n",
       "<style scoped>\n",
       "    .dataframe tbody tr th:only-of-type {\n",
       "        vertical-align: middle;\n",
       "    }\n",
       "\n",
       "    .dataframe tbody tr th {\n",
       "        vertical-align: top;\n",
       "    }\n",
       "\n",
       "    .dataframe thead th {\n",
       "        text-align: right;\n",
       "    }\n",
       "</style>\n",
       "<table border=\"1\" class=\"dataframe\">\n",
       "  <thead>\n",
       "    <tr style=\"text-align: right;\">\n",
       "      <th></th>\n",
       "      <th>Year</th>\n",
       "      <th>Tmin</th>\n",
       "    </tr>\n",
       "  </thead>\n",
       "  <tbody>\n",
       "    <tr>\n",
       "      <th>0</th>\n",
       "      <td>2020</td>\n",
       "      <td>10.462259</td>\n",
       "    </tr>\n",
       "    <tr>\n",
       "      <th>1</th>\n",
       "      <td>2025</td>\n",
       "      <td>10.591040</td>\n",
       "    </tr>\n",
       "    <tr>\n",
       "      <th>2</th>\n",
       "      <td>2030</td>\n",
       "      <td>10.719821</td>\n",
       "    </tr>\n",
       "    <tr>\n",
       "      <th>3</th>\n",
       "      <td>2035</td>\n",
       "      <td>10.848603</td>\n",
       "    </tr>\n",
       "    <tr>\n",
       "      <th>4</th>\n",
       "      <td>2040</td>\n",
       "      <td>10.977384</td>\n",
       "    </tr>\n",
       "    <tr>\n",
       "      <th>5</th>\n",
       "      <td>2045</td>\n",
       "      <td>11.106165</td>\n",
       "    </tr>\n",
       "    <tr>\n",
       "      <th>6</th>\n",
       "      <td>2050</td>\n",
       "      <td>11.234946</td>\n",
       "    </tr>\n",
       "    <tr>\n",
       "      <th>7</th>\n",
       "      <td>2055</td>\n",
       "      <td>11.363727</td>\n",
       "    </tr>\n",
       "    <tr>\n",
       "      <th>8</th>\n",
       "      <td>2060</td>\n",
       "      <td>11.492508</td>\n",
       "    </tr>\n",
       "    <tr>\n",
       "      <th>9</th>\n",
       "      <td>2065</td>\n",
       "      <td>11.621289</td>\n",
       "    </tr>\n",
       "    <tr>\n",
       "      <th>10</th>\n",
       "      <td>2070</td>\n",
       "      <td>11.750070</td>\n",
       "    </tr>\n",
       "    <tr>\n",
       "      <th>11</th>\n",
       "      <td>2075</td>\n",
       "      <td>11.878851</td>\n",
       "    </tr>\n",
       "    <tr>\n",
       "      <th>12</th>\n",
       "      <td>2080</td>\n",
       "      <td>12.007632</td>\n",
       "    </tr>\n",
       "    <tr>\n",
       "      <th>13</th>\n",
       "      <td>2085</td>\n",
       "      <td>12.136413</td>\n",
       "    </tr>\n",
       "    <tr>\n",
       "      <th>14</th>\n",
       "      <td>2090</td>\n",
       "      <td>12.265194</td>\n",
       "    </tr>\n",
       "    <tr>\n",
       "      <th>15</th>\n",
       "      <td>2095</td>\n",
       "      <td>12.393975</td>\n",
       "    </tr>\n",
       "    <tr>\n",
       "      <th>16</th>\n",
       "      <td>2100</td>\n",
       "      <td>12.522756</td>\n",
       "    </tr>\n",
       "    <tr>\n",
       "      <th>17</th>\n",
       "      <td>2105</td>\n",
       "      <td>12.651537</td>\n",
       "    </tr>\n",
       "    <tr>\n",
       "      <th>18</th>\n",
       "      <td>2110</td>\n",
       "      <td>12.780319</td>\n",
       "    </tr>\n",
       "    <tr>\n",
       "      <th>19</th>\n",
       "      <td>2115</td>\n",
       "      <td>12.909100</td>\n",
       "    </tr>\n",
       "    <tr>\n",
       "      <th>20</th>\n",
       "      <td>2120</td>\n",
       "      <td>13.037881</td>\n",
       "    </tr>\n",
       "    <tr>\n",
       "      <th>21</th>\n",
       "      <td>2125</td>\n",
       "      <td>13.166662</td>\n",
       "    </tr>\n",
       "    <tr>\n",
       "      <th>22</th>\n",
       "      <td>2130</td>\n",
       "      <td>13.295443</td>\n",
       "    </tr>\n",
       "    <tr>\n",
       "      <th>23</th>\n",
       "      <td>2135</td>\n",
       "      <td>13.424224</td>\n",
       "    </tr>\n",
       "    <tr>\n",
       "      <th>24</th>\n",
       "      <td>2140</td>\n",
       "      <td>13.553005</td>\n",
       "    </tr>\n",
       "    <tr>\n",
       "      <th>25</th>\n",
       "      <td>2145</td>\n",
       "      <td>13.681786</td>\n",
       "    </tr>\n",
       "    <tr>\n",
       "      <th>26</th>\n",
       "      <td>2150</td>\n",
       "      <td>13.810567</td>\n",
       "    </tr>\n",
       "  </tbody>\n",
       "</table>\n",
       "</div>"
      ],
      "text/plain": [
       "    Year       Tmin\n",
       "0   2020  10.462259\n",
       "1   2025  10.591040\n",
       "2   2030  10.719821\n",
       "3   2035  10.848603\n",
       "4   2040  10.977384\n",
       "5   2045  11.106165\n",
       "6   2050  11.234946\n",
       "7   2055  11.363727\n",
       "8   2060  11.492508\n",
       "9   2065  11.621289\n",
       "10  2070  11.750070\n",
       "11  2075  11.878851\n",
       "12  2080  12.007632\n",
       "13  2085  12.136413\n",
       "14  2090  12.265194\n",
       "15  2095  12.393975\n",
       "16  2100  12.522756\n",
       "17  2105  12.651537\n",
       "18  2110  12.780319\n",
       "19  2115  12.909100\n",
       "20  2120  13.037881\n",
       "21  2125  13.166662\n",
       "22  2130  13.295443\n",
       "23  2135  13.424224\n",
       "24  2140  13.553005\n",
       "25  2145  13.681786\n",
       "26  2150  13.810567"
      ]
     },
     "execution_count": 147,
     "metadata": {},
     "output_type": "execute_result"
    }
   ],
   "source": [
    "year, tmin = [], []\n",
    "for i in range(0,27):\n",
    "    val = 2020+(i*5)\n",
    "    year.append(val)\n",
    "    tmin.append(TminPredict(val))\n",
    "fut_tmin = pd.DataFrame(list(zip(year,tmin)), columns=['Year','Tmin'])\n",
    "fut_tmin"
   ]
  },
  {
   "cell_type": "markdown",
   "metadata": {},
   "source": [
    "The situation is the same for minimum temperatures. With values lower than 10ºC until 1980, the predicted values achive 12,5ºC for the year 2100."
   ]
  },
  {
   "cell_type": "markdown",
   "metadata": {},
   "source": [
    "## 3.3 Rainfalls"
   ]
  },
  {
   "cell_type": "markdown",
   "metadata": {},
   "source": [
    "And finally, what about rainfalls? The decrease in rain was not as pronounced as the rise in temperatures, so let's check the predicted values for the next years"
   ]
  },
  {
   "cell_type": "code",
   "execution_count": 148,
   "metadata": {},
   "outputs": [
    {
     "data": {
      "text/plain": [
       "Text(0, 0.5, 'Rain')"
      ]
     },
     "execution_count": 148,
     "metadata": {},
     "output_type": "execute_result"
    },
    {
     "data": {
      "image/png": "[encoded data removed]",
      "text/plain": [
       "<Figure size 432x288 with 1 Axes>"
      ]
     },
     "metadata": {
      "needs_background": "light"
     },
     "output_type": "display_data"
    }
   ],
   "source": [
    "from sklearn import linear_model\n",
    "regr = linear_model.LinearRegression()\n",
    "x = np.asanyarray(df_rain[['Year']])\n",
    "y = np.asanyarray(df_rain[['Rain']])\n",
    "regr.fit(x, y)\n",
    "\n",
    "def RainPredict(x):\n",
    "    y = regr.coef_[0][0]*x + regr.intercept_[0]\n",
    "    return y\n",
    "\n",
    "plt.scatter(df_rain['Year'], df_rain['Rain'],  color='blue')\n",
    "plt.plot(x, RainPredict(x), '-r')\n",
    "plt.xlabel(\"Year\")\n",
    "plt.ylabel(\"Rain\")"
   ]
  },
  {
   "cell_type": "code",
   "execution_count": 149,
   "metadata": {},
   "outputs": [
    {
     "data": {
      "text/html": [
       "<div>\n",
       "<style scoped>\n",
       "    .dataframe tbody tr th:only-of-type {\n",
       "        vertical-align: middle;\n",
       "    }\n",
       "\n",
       "    .dataframe tbody tr th {\n",
       "        vertical-align: top;\n",
       "    }\n",
       "\n",
       "    .dataframe thead th {\n",
       "        text-align: right;\n",
       "    }\n",
       "</style>\n",
       "<table border=\"1\" class=\"dataframe\">\n",
       "  <thead>\n",
       "    <tr style=\"text-align: right;\">\n",
       "      <th></th>\n",
       "      <th>Year</th>\n",
       "      <th>Rain</th>\n",
       "    </tr>\n",
       "  </thead>\n",
       "  <tbody>\n",
       "    <tr>\n",
       "      <th>0</th>\n",
       "      <td>2020</td>\n",
       "      <td>1566</td>\n",
       "    </tr>\n",
       "    <tr>\n",
       "      <th>1</th>\n",
       "      <td>2025</td>\n",
       "      <td>1523</td>\n",
       "    </tr>\n",
       "    <tr>\n",
       "      <th>2</th>\n",
       "      <td>2030</td>\n",
       "      <td>1480</td>\n",
       "    </tr>\n",
       "    <tr>\n",
       "      <th>3</th>\n",
       "      <td>2035</td>\n",
       "      <td>1438</td>\n",
       "    </tr>\n",
       "    <tr>\n",
       "      <th>4</th>\n",
       "      <td>2040</td>\n",
       "      <td>1395</td>\n",
       "    </tr>\n",
       "    <tr>\n",
       "      <th>5</th>\n",
       "      <td>2045</td>\n",
       "      <td>1352</td>\n",
       "    </tr>\n",
       "    <tr>\n",
       "      <th>6</th>\n",
       "      <td>2050</td>\n",
       "      <td>1309</td>\n",
       "    </tr>\n",
       "    <tr>\n",
       "      <th>7</th>\n",
       "      <td>2055</td>\n",
       "      <td>1267</td>\n",
       "    </tr>\n",
       "    <tr>\n",
       "      <th>8</th>\n",
       "      <td>2060</td>\n",
       "      <td>1224</td>\n",
       "    </tr>\n",
       "    <tr>\n",
       "      <th>9</th>\n",
       "      <td>2065</td>\n",
       "      <td>1181</td>\n",
       "    </tr>\n",
       "    <tr>\n",
       "      <th>10</th>\n",
       "      <td>2070</td>\n",
       "      <td>1138</td>\n",
       "    </tr>\n",
       "    <tr>\n",
       "      <th>11</th>\n",
       "      <td>2075</td>\n",
       "      <td>1096</td>\n",
       "    </tr>\n",
       "    <tr>\n",
       "      <th>12</th>\n",
       "      <td>2080</td>\n",
       "      <td>1053</td>\n",
       "    </tr>\n",
       "    <tr>\n",
       "      <th>13</th>\n",
       "      <td>2085</td>\n",
       "      <td>1010</td>\n",
       "    </tr>\n",
       "    <tr>\n",
       "      <th>14</th>\n",
       "      <td>2090</td>\n",
       "      <td>967</td>\n",
       "    </tr>\n",
       "    <tr>\n",
       "      <th>15</th>\n",
       "      <td>2095</td>\n",
       "      <td>925</td>\n",
       "    </tr>\n",
       "    <tr>\n",
       "      <th>16</th>\n",
       "      <td>2100</td>\n",
       "      <td>882</td>\n",
       "    </tr>\n",
       "    <tr>\n",
       "      <th>17</th>\n",
       "      <td>2105</td>\n",
       "      <td>839</td>\n",
       "    </tr>\n",
       "    <tr>\n",
       "      <th>18</th>\n",
       "      <td>2110</td>\n",
       "      <td>797</td>\n",
       "    </tr>\n",
       "    <tr>\n",
       "      <th>19</th>\n",
       "      <td>2115</td>\n",
       "      <td>754</td>\n",
       "    </tr>\n",
       "    <tr>\n",
       "      <th>20</th>\n",
       "      <td>2120</td>\n",
       "      <td>711</td>\n",
       "    </tr>\n",
       "    <tr>\n",
       "      <th>21</th>\n",
       "      <td>2125</td>\n",
       "      <td>668</td>\n",
       "    </tr>\n",
       "    <tr>\n",
       "      <th>22</th>\n",
       "      <td>2130</td>\n",
       "      <td>626</td>\n",
       "    </tr>\n",
       "    <tr>\n",
       "      <th>23</th>\n",
       "      <td>2135</td>\n",
       "      <td>583</td>\n",
       "    </tr>\n",
       "    <tr>\n",
       "      <th>24</th>\n",
       "      <td>2140</td>\n",
       "      <td>540</td>\n",
       "    </tr>\n",
       "    <tr>\n",
       "      <th>25</th>\n",
       "      <td>2145</td>\n",
       "      <td>497</td>\n",
       "    </tr>\n",
       "    <tr>\n",
       "      <th>26</th>\n",
       "      <td>2150</td>\n",
       "      <td>455</td>\n",
       "    </tr>\n",
       "  </tbody>\n",
       "</table>\n",
       "</div>"
      ],
      "text/plain": [
       "    Year  Rain\n",
       "0   2020  1566\n",
       "1   2025  1523\n",
       "2   2030  1480\n",
       "3   2035  1438\n",
       "4   2040  1395\n",
       "5   2045  1352\n",
       "6   2050  1309\n",
       "7   2055  1267\n",
       "8   2060  1224\n",
       "9   2065  1181\n",
       "10  2070  1138\n",
       "11  2075  1096\n",
       "12  2080  1053\n",
       "13  2085  1010\n",
       "14  2090   967\n",
       "15  2095   925\n",
       "16  2100   882\n",
       "17  2105   839\n",
       "18  2110   797\n",
       "19  2115   754\n",
       "20  2120   711\n",
       "21  2125   668\n",
       "22  2130   626\n",
       "23  2135   583\n",
       "24  2140   540\n",
       "25  2145   497\n",
       "26  2150   455"
      ]
     },
     "execution_count": 149,
     "metadata": {},
     "output_type": "execute_result"
    }
   ],
   "source": [
    "year, rain = [], []\n",
    "for i in range(0,27):\n",
    "    val = 2020+(i*5)\n",
    "    year.append(val)\n",
    "    rain.append(RainPredict(val))\n",
    "fut_rain = pd.DataFrame(list(zip(year,rain)), columns=['Year','Rain'])\n",
    "fut_rain = fut_rain.astype({'Rain':int})\n",
    "fut_rain"
   ]
  },
  {
   "cell_type": "markdown",
   "metadata": {},
   "source": [
    "We were wrong. Visually, from the graph at the beginning of the study, it seemed that the trend was not as sharp. However, plotting the trend line given by the regression, already makes us predict a significant decrease in rainfall.\n",
    "\n",
    "In 100 years (from 2020 to 2120), rainfalls will be cut in half. Until 2000, the total rainfalls was frequently bigger than 2.000 liters, value cut in a half for 2085. "
   ]
  },
  {
   "cell_type": "markdown",
   "metadata": {},
   "source": [
    "# 4. Conclusions"
   ]
  },
  {
   "cell_type": "markdown",
   "metadata": {},
   "source": [
    "No one is going to discover climate change at this point. This is a fact and denialism is a clear realism problem. Any politician, institution or company can reach this conclusion only by comparing the climate when we were child. Analysis like this only puts numbers to the problem.\n",
    "\n",
    "With actual values, predictions says that in the next 100 years the temperatures will increase in 3ºC and the rainfalls will be cut in a half. It's a huge climate change in few time. For Vigo's example, the climate will change to another type more close to Barcelona or Valencia, with everything it means for the flora and fauna of the area, in addition to the repercussion on the inhabitants and resources of the area.\n",
    "\n",
    "Will these be the final values? I hope not. Governments, companies and individuals have begun to adopt changes to reverse this situation. The results will not have immediate effect, but the red line that we plotted in the linear regression graphs  will change towards a minor slope, and even other models like polynomial regression could fit better to future values."
   ]
  },
  {
   "cell_type": "code",
   "execution_count": null,
   "metadata": {},
   "outputs": [],
   "source": []
  }
 ],
 "metadata": {
  "kernelspec": {
   "display_name": "Python 3",
   "language": "python",
   "name": "python3"
  },
  "language_info": {
   "codemirror_mode": {
    "name": "ipython",
    "version": 3
   },
   "file_extension": ".py",
   "mimetype": "text/x-python",
   "name": "python",
   "nbconvert_exporter": "python",
   "pygments_lexer": "ipython3",
   "version": "3.7.6"
  }
 },
 "nbformat": 4,
 "nbformat_minor": 4
}
